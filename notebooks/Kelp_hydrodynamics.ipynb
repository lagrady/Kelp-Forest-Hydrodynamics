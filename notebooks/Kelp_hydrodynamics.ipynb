{
 "cells": [
  {
   "cell_type": "code",
   "execution_count": null,
   "metadata": {},
   "outputs": [],
   "source": [
    "import pandas as pd\n",
    "import numpy as np\n",
    "import matplotlib.pyplot as plt\n",
    "import matplotlib.colors\n",
    "import xarray as xr\n",
    "import gsw # https://teos-10.github.io/GSW-Python/gsw_flat.html\n",
    "from sklearn.linear_model import LinearRegression\n",
    "\n",
    "import matplotlib.patches as mpatches\n",
    "from physoce import tseries as ts \n",
    "from scipy.signal import welch \n",
    "from scipy.stats import chi2 \n",
    "from scipy import stats\n",
    "from scipy.signal import periodogram\n",
    "from datetime import timedelta"
   ]
  },
  {
   "cell_type": "code",
   "execution_count": null,
   "metadata": {},
   "outputs": [],
   "source": [
    "tmean = temp.mean() # 12.29\n",
    "kv = .000001225 # kv found on https://www.omnicalculator.com/physics/water-viscosity\n",
    "Re = 1000 # Re number where turbulence is observed\n",
    "Vmean = adv.Magnitude.mean() # .0343 m/s\n",
    "\n",
    "# Re = Vmean * diameter / kv, diameter = Re * kv/ Vmean\n",
    "diam = ((Re * kv)/Vmean)"
   ]
  },
  {
   "cell_type": "code",
   "execution_count": null,
   "metadata": {},
   "outputs": [],
   "source": [
    "# Above data coincides with weeks 2 and 3\n",
    "# survey_dates[1:3]\n",
    "kelp_diam_w1_3 = kelp_diam_w2_3.append(kelp_diam_w1)"
   ]
  },
  {
   "cell_type": "code",
   "execution_count": null,
   "metadata": {},
   "outputs": [],
   "source": [
    "#survey_dates[0:3]\n",
    "#kelp_diam_w1_3.stack()\n",
    "plt.figure(figsize = (20,8))\n",
    "\n",
    "plt.subplot(131)\n",
    "plt.hist(kelp_diam_w1_3.stack()/100, bins =20, color = 'goldenrod')\n",
    "plt.ylabel('Frequency', fontsize = 14)\n",
    "plt.xlabel('Diameter (m)', fontsize = 14)\n",
    "plt.title('Cumulative Stipe Bundle Diameters', fontsize = 14)\n",
    "\n",
    "plt.subplot(132)\n",
    "plt.hist(adv01_1min.Magnitude, bins=50, color = 'blue')\n",
    "plt.ylabel('Frequency', fontsize = 14)\n",
    "plt.xlabel('Current velocity (m/s)', fontsize = 14)\n",
    "plt.title('Horizontal Current Velocity: SWC ADV', fontsize = 14)\n",
    "\n",
    "plt.subplot(133)\n",
    "plt.hist(adcp01.Magnitude.isel(BinDist = 1), bins=50, color = 'cyan')\n",
    "plt.ylabel('Frequency', fontsize = 14)\n",
    "plt.xlabel('Current velocity (m/s)', fontsize = 14)\n",
    "plt.title('Horizontal Current Velocity: SWC ADCP', fontsize = 14)\n",
    "\n",
    "plt.savefig('Plots/Dep1_kelp_current_histograms')"
   ]
  },
  {
   "cell_type": "code",
   "execution_count": null,
   "metadata": {},
   "outputs": [],
   "source": [
    "# Import kelp survey data\n",
    "kelp = pd.read_csv('Kelp/kelp_data_noLR.csv')\n",
    "\n",
    "kelp_diam_w1 = kelp_diam.iloc[0:8,:]\n",
    "w1_mean = kelp_diam_w1.stack().mean()\n",
    "w1_max = kelp_diam_w1.stack().max()\n",
    "w1_min = kelp_diam_w1.stack().min()\n",
    "\n",
    "kelp_diam_w2 = kelp_diam.iloc[8:18,:]\n",
    "w2_mean = kelp_diam_w2.stack().mean()\n",
    "w2_max = kelp_diam_w2.stack().max()\n",
    "w2_min = kelp_diam_w2.stack().min()\n",
    "\n",
    "kelp_diam_w3 = kelp_diam.iloc[18:33,:]\n",
    "w3_mean = kelp_diam_w3.stack().mean()\n",
    "w3_max = kelp_diam_w3.stack().max()\n",
    "w3_min = kelp_diam_w3.stack().min()\n",
    "\n",
    "kelp_diam_w4 = kelp_diam.iloc[33:48,:]\n",
    "w4_mean = kelp_diam_w4.stack().mean()\n",
    "w4_max = kelp_diam_w4.stack().max()\n",
    "w4_min = kelp_diam_w4.stack().min()\n",
    "\n",
    "kelp_diam_w5 = kelp_diam.iloc[48:,:]\n",
    "w5_mean = kelp_diam_w5.stack().mean()\n",
    "w5_max = kelp_diam_w5.stack().max()\n",
    "w5_min = kelp_diam_w5.stack().min()\n",
    "\n",
    "density_w1 = kelp_diam_w1.count().sum() / 286.28\n",
    "density_w2 = kelp_diam_w2.count().sum() / 286.28\n",
    "density_w3 = kelp_diam_w3.count().sum() / 286.28\n",
    "density_w4 = kelp_diam_w4.count().sum() / 286.28\n",
    "density_w5 = kelp_diam_w5.count().sum() / 286.28\n",
    "density_arr = [density_w1, density_w2, density_w3, density_w4, density_w5]\n",
    "\n",
    "kelp_mean_arr = np.array([w1_mean, w2_mean, w3_mean, w4_mean, w5_mean])\n",
    "kelp_max_arr = np.array([w1_max, w2_max, w3_max, w4_max, w5_max])\n",
    "kelp_min_arr = np.array([w1_min, w2_min, w3_min, w4_min, w5_min])\n",
    "\n",
    "kelp['Date'] = pd.to_datetime(kelp['Date'])\n",
    "survey_dates = np.unique(kelp['Date'])"
   ]
  },
  {
   "cell_type": "code",
   "execution_count": null,
   "metadata": {},
   "outputs": [],
   "source": [
    "fig,ax = plt.subplots(figsize = (20, 8))\n",
    "\n",
    "ax.plot(survey_dates, kelp_mean_arr/100, '-k', lw = 4, label= 'Mean Diameter')\n",
    "ax.plot(survey_dates, kelp_max_arr/100, '-b', lw = 4, label = 'Max Diameter')\n",
    "\n",
    "ax2=ax.twinx()\n",
    "ax2.plot(survey_dates, density_arr, '-g', marker = 'o', ms = 10, label = 'Stipe Bundle Density')\n",
    "\n",
    "ax.legend(loc=1, bbox_to_anchor=(.965,.95))\n",
    "ax2.legend(bbox_to_anchor=(.99,1))\n",
    "ax.set_ylabel('Stipe bundle diameter (m)', fontsize = 14)\n",
    "ax2.set_ylabel('Stipe Bundle Density (Bundles/m\\u00b2)', fontsize = 14)\n",
    "ax.set_xlabel('Datetime', fontsize = 14)\n",
    "plt.title('Weekly Stipe Bundle Diameter and Density (N = 5)', fontsize = 14)\n",
    "plt.margins(x=.01, y = 1)\n",
    "\n"
   ]
  },
  {
   "cell_type": "code",
   "execution_count": null,
   "metadata": {},
   "outputs": [],
   "source": []
  },
  {
   "cell_type": "code",
   "execution_count": null,
   "metadata": {},
   "outputs": [],
   "source": []
  },
  {
   "cell_type": "code",
   "execution_count": null,
   "metadata": {},
   "outputs": [],
   "source": []
  },
  {
   "cell_type": "code",
   "execution_count": null,
   "metadata": {},
   "outputs": [],
   "source": []
  },
  {
   "cell_type": "code",
   "execution_count": null,
   "metadata": {},
   "outputs": [],
   "source": []
  }
 ],
 "metadata": {
  "kernelspec": {
   "display_name": "Python 3",
   "language": "python",
   "name": "python3"
  },
  "language_info": {
   "codemirror_mode": {
    "name": "ipython",
    "version": 3
   },
   "file_extension": ".py",
   "mimetype": "text/x-python",
   "name": "python",
   "nbconvert_exporter": "python",
   "pygments_lexer": "ipython3",
   "version": "3.8.5"
  }
 },
 "nbformat": 4,
 "nbformat_minor": 4
}
