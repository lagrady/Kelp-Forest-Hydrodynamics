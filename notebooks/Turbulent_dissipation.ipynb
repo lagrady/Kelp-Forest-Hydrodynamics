{
 "cells": [
  {
   "cell_type": "code",
   "execution_count": 1,
   "metadata": {},
   "outputs": [],
   "source": [
    "import pandas as pd\n",
    "import numpy as np\n",
    "import matplotlib.pyplot as plt\n",
    "import matplotlib.colors\n",
    "import xarray as xr\n",
    "import gsw # https://teos-10.github.io/GSW-Python/gsw_flat.html\n",
    "from sklearn.linear_model import LinearRegression\n",
    "\n",
    "import matplotlib.patches as mpatches\n",
    "from physoce import tseries as ts \n",
    "from scipy.signal import welch \n",
    "from scipy.stats import chi2 \n",
    "from scipy import stats\n",
    "from scipy.signal import periodogram\n",
    "from datetime import timedelta"
   ]
  },
  {
   "cell_type": "markdown",
   "metadata": {},
   "source": [
    "# Spectral analysis and turbulent dissipation estimates\n",
    "- Additional QC of adv data is used to flag data runs (bursts of data) that have gaps of high correlation and signal strength (SNR)\n",
    "- Parameters for dissipation QC are used from Fedderson, 2010 (\"Quality controlling surf zone acoustic Doppler velocimeter observations to estimate the turbulent dissipation rate\")\n",
    "    - SNR on each beam should be > 15dB\n",
    "    - CORR on each beam should be above .3 + .4(SQRT(f_s/f_max)), where f_s is the instrument sampling frequency, and f_max is the maximum sampling frequency the instrument is capable of \n",
    "    - Fraction of \"bad data\" to good data for each run is determined as sigmaSS and sigmaCORR\n",
    "        - sigmaSS <= .1 (34560/38400 data points, or two minutes of \"bad data\" allowed)\n",
    "        - sigmaCORR <= .7 (11520/38400 data points, or 14 minutes of \"bad data\" allowed)\n",
    "    - Bad data runs that do not meet these criteria are discarded, and the remaining good data runs are \"fixed\"\n",
    "        - Gaps in data <= 1s long are linearly interpolated between the good data points bounding the gap\n",
    "        - Longer gaps are averaged and the entire gap is set to the averaged value\n",
    "        - If the gap is significantly longer than a couple seconds, \"patching\" may be used\n",
    "        - Patching removes the larger gaps in data and joins the good data points together, but may cause bias via time shifting in the frequency spectra"
   ]
  },
  {
   "cell_type": "code",
   "execution_count": null,
   "metadata": {},
   "outputs": [],
   "source": [
    "def e_data_filter(ds):\n",
    "    # Check for sigmaSS and sigmaCORR in both adv datasets\n",
    "    # ySS = 15, yCORR = .5\n",
    "\n",
    "    # Start by filtering data that doesn't pass the SNR test\n",
    "    print('Filtering SNR')\n",
    "    ySS = xr.zeros_like(ds.East)\n",
    "    ySS = ySS + xr.where((ds.SNR_B1 >= 15), 0, 1)\n",
    "    ySS = ySS + xr.where((ds.SNR_B2 >= 15), 0, 1)\n",
    "    ySS = ySS + xr.where((ds.SNR_B3 >= 15), 0, 1)\n",
    "    ySS = ds.where(ySS < 1)\n",
    "    ySS['Burst_number'] = ds.Burst_number\n",
    "    ySS['Pressure'] = ds.Pressure\n",
    "    print('Finding number of good bursts')\n",
    "    ndata = ySS.groupby('Burst_number').count().Vertical\n",
    "    sigSS = np.array([np.unique(ySS.Burst_number), ndata])\n",
    "    sigSS = np.where(sigSS[1] >= (38400*.9), sigSS[0], np.nan)\n",
    "    sigSS = sigSS[~np.isnan(sigSS)]\n",
    "    print('Creating gdat')\n",
    "    gdat = ySS.where(ySS.Burst_number.isin(sigSS), drop=True)\n",
    "\n",
    "    # Then filter data that doesn't pass the correlation test, but use the gdat dataset\n",
    "    print('Filtering correlation')\n",
    "    yCORR = xr.zeros_like(gdat.East)\n",
    "    yCORR = yCORR + xr.where((gdat.Correlation_B1 >= 15), 0, 1)\n",
    "    yCORR = yCORR + xr.where((gdat.Correlation_B2 >= 15), 0, 1)\n",
    "    yCORR = yCORR + xr.where((gdat.Correlation_B3 >= 15), 0, 1)\n",
    "    yCORR = gdat.where(yCORR < 1)\n",
    "    yCORR['Burst_number'] = gdat.Burst_number\n",
    "    yCORR['Pressure'] = gdat.Pressure\n",
    "    print('Finding number of good bursts')\n",
    "    ndata = yCORR.groupby('Burst_number').count().Vertical\n",
    "    sigCORR = np.array([np.unique(yCORR.Burst_number), ndata])\n",
    "    sigCORR = np.where(sigCORR[1] >= (38400*.3), sigCORR[0], np.nan)\n",
    "    sigCORR = sigCORR[~np.isnan(sigCORR)]\n",
    "    print('Creating gdat')\n",
    "    gdat = yCORR.where(yCORR.Burst_number.isin(sigCORR), drop=True)\n",
    "    gdat = gdat.drop(labels=['CSPD', 'CDIR', 'Checksum', 'Dat_flag'])\n",
    "    \n",
    "    return gdat"
   ]
  },
  {
   "cell_type": "code",
   "execution_count": 3,
   "metadata": {},
   "outputs": [],
   "source": [
    "#e1 = e_data_filter(adv1)\n",
    "#e1.to_netcdf('ADV/e1.nc')\n",
    "e1 = xr.open_dataset('ADV/e1.nc')\n",
    "adv1 = xr.open_dataset('ADV/adv1_dat.nc')\n",
    "\n",
    "#e2 = e_data_filter(adv2)\n",
    "#e2.to_netcdf('ADV/e2.nc')\n",
    "e2 = xr.open_dataset('ADV/e2.nc')\n",
    "adv2 = xr.open_dataset('ADV/adv2_dat.nc')"
   ]
  },
  {
   "cell_type": "code",
   "execution_count": 5,
   "metadata": {},
   "outputs": [
    {
     "name": "stderr",
     "output_type": "stream",
     "text": [
      "<ipython-input-5-3ec692842046>:16: DeprecationWarning: dropping labels using list-like labels is deprecated; using dict-like arguments with `drop_sel`, e.g. `ds.drop_sel(dim=[labels]).\n",
      "  e1_inter = e1_inter.drop(badtimes, dim='time') # Drop the bad times\n"
     ]
    }
   ],
   "source": [
    "# Gaps in the quality controlled data still exist but can be fixed/trimmed to generate more complete data runs\n",
    "\n",
    "# Gaps of 1 second can be linearly interpolated between start and end points of gap\n",
    "delta = timedelta(seconds=1, milliseconds = 31.25) # Maximum gap of less than 1 second and 31.25 milliseconds\n",
    "e1_inter = e1.interpolate_na(dim=\"time\", method=\"linear\", max_gap = delta) # Linearly interpolates across gaps up to a limit denoted by time delta\n",
    "\n",
    "# Interpolate_na cannot estimate data gaps without start or end points, or gaps exceeding the time delta\n",
    "gaps = e1_inter.where(e1_inter.East.isnull() == True, drop = True) # Generate a dataset with all leftover uninterpolated gaps\n",
    "\n",
    "# Gaps leftover due to lack of start/end points should be removed, whereas gaps longer than a second can be fixed\n",
    "# Manually select bad and good bursts\n",
    "badgaps = [5, 36, 104] # Droppable data\n",
    "goodgaps = [77] # Fixable\n",
    "\n",
    "badtimes = np.array(gaps.time.where(gaps.Burst_number.isin(badgaps), drop = True)) # Create an array of times from bad bursts to remove from dataset\n",
    "e1_inter = e1_inter.drop(badtimes, dim='time') # Drop the bad times\n",
    "\n",
    "goodtimes = np.array(gaps.time.where(gaps.Burst_number.isin(goodgaps), drop = True)) # Create an array of times from fixable bursts to remove from dataset\n",
    "\n",
    "#Burst 77 has two different gaps greater than time delta, so they must be corrected separately\n",
    "b1 = goodtimes[0:40]\n",
    "b2 = goodtimes[40:]\n",
    "\n",
    "# Fixable gaps are mitigated by using the original adv data to find the average velocity over the time gap\n",
    "Eastm1 = np.mean(adv1.East.sel(time = slice(b1[0], b1[-1])))\n",
    "Northm1 = np.mean(adv1.North.sel(time = slice(b1[0], b1[-1])))\n",
    "Vertm1 = np.mean(adv1.Vertical.sel(time = slice(b1[0], b1[-1])))\n",
    "\n",
    "Eastm2 = np.mean(adv1.East.sel(time = slice(b2[0], b2[-1])))\n",
    "Northm2 = np.mean(adv1.North.sel(time = slice(b2[0], b2[-1])))\n",
    "Vertm2 = np.mean(adv1.Vertical.sel(time = slice(b2[0], b2[-1])))\n",
    "\n",
    "# Using the xr.where function, the averages are applied to the proper time gaps for each component of velocity\n",
    "east = xr.where(e1_inter.East.time.isin(b1), Eastm1, e1_inter.East)\n",
    "east = xr.where(e1_inter.East.time.isin(b2), Eastm2, east)\n",
    "e1_inter['East'] = east\n",
    "\n",
    "north = xr.where(e1_inter.North.time.isin(b1), Northm1, e1_inter.North)\n",
    "north = xr.where(e1_inter.North.time.isin(b2), Northm2, north)\n",
    "e1_inter['North'] = north\n",
    "\n",
    "vert = xr.where(e1_inter.East.time.isin(b1), Vertm1, e1_inter.Vertical)\n",
    "vert = xr.where(e1_inter.East.time.isin(b2), Vertm2, vert)\n",
    "e1_inter['Vertical'] = vert"
   ]
  },
  {
   "cell_type": "code",
   "execution_count": 120,
   "metadata": {},
   "outputs": [],
   "source": [
    "e1_inter.to_netcdf('ADV/e1_inter.nc')"
   ]
  },
  {
   "cell_type": "code",
   "execution_count": 112,
   "metadata": {},
   "outputs": [
    {
     "data": {
      "text/html": [
       "<div><svg style=\"position: absolute; width: 0; height: 0; overflow: hidden\">\n",
       "<defs>\n",
       "<symbol id=\"icon-database\" viewBox=\"0 0 32 32\">\n",
       "<path d=\"M16 0c-8.837 0-16 2.239-16 5v4c0 2.761 7.163 5 16 5s16-2.239 16-5v-4c0-2.761-7.163-5-16-5z\"></path>\n",
       "<path d=\"M16 17c-8.837 0-16-2.239-16-5v6c0 2.761 7.163 5 16 5s16-2.239 16-5v-6c0 2.761-7.163 5-16 5z\"></path>\n",
       "<path d=\"M16 26c-8.837 0-16-2.239-16-5v6c0 2.761 7.163 5 16 5s16-2.239 16-5v-6c0 2.761-7.163 5-16 5z\"></path>\n",
       "</symbol>\n",
       "<symbol id=\"icon-file-text2\" viewBox=\"0 0 32 32\">\n",
       "<path d=\"M28.681 7.159c-0.694-0.947-1.662-2.053-2.724-3.116s-2.169-2.030-3.116-2.724c-1.612-1.182-2.393-1.319-2.841-1.319h-15.5c-1.378 0-2.5 1.121-2.5 2.5v27c0 1.378 1.122 2.5 2.5 2.5h23c1.378 0 2.5-1.122 2.5-2.5v-19.5c0-0.448-0.137-1.23-1.319-2.841zM24.543 5.457c0.959 0.959 1.712 1.825 2.268 2.543h-4.811v-4.811c0.718 0.556 1.584 1.309 2.543 2.268zM28 29.5c0 0.271-0.229 0.5-0.5 0.5h-23c-0.271 0-0.5-0.229-0.5-0.5v-27c0-0.271 0.229-0.5 0.5-0.5 0 0 15.499-0 15.5 0v7c0 0.552 0.448 1 1 1h7v19.5z\"></path>\n",
       "<path d=\"M23 26h-14c-0.552 0-1-0.448-1-1s0.448-1 1-1h14c0.552 0 1 0.448 1 1s-0.448 1-1 1z\"></path>\n",
       "<path d=\"M23 22h-14c-0.552 0-1-0.448-1-1s0.448-1 1-1h14c0.552 0 1 0.448 1 1s-0.448 1-1 1z\"></path>\n",
       "<path d=\"M23 18h-14c-0.552 0-1-0.448-1-1s0.448-1 1-1h14c0.552 0 1 0.448 1 1s-0.448 1-1 1z\"></path>\n",
       "</symbol>\n",
       "</defs>\n",
       "</svg>\n",
       "<style>/* CSS stylesheet for displaying xarray objects in jupyterlab.\n",
       " *\n",
       " */\n",
       "\n",
       ":root {\n",
       "  --xr-font-color0: var(--jp-content-font-color0, rgba(0, 0, 0, 1));\n",
       "  --xr-font-color2: var(--jp-content-font-color2, rgba(0, 0, 0, 0.54));\n",
       "  --xr-font-color3: var(--jp-content-font-color3, rgba(0, 0, 0, 0.38));\n",
       "  --xr-border-color: var(--jp-border-color2, #e0e0e0);\n",
       "  --xr-disabled-color: var(--jp-layout-color3, #bdbdbd);\n",
       "  --xr-background-color: var(--jp-layout-color0, white);\n",
       "  --xr-background-color-row-even: var(--jp-layout-color1, white);\n",
       "  --xr-background-color-row-odd: var(--jp-layout-color2, #eeeeee);\n",
       "}\n",
       "\n",
       "html[theme=dark],\n",
       "body.vscode-dark {\n",
       "  --xr-font-color0: rgba(255, 255, 255, 1);\n",
       "  --xr-font-color2: rgba(255, 255, 255, 0.54);\n",
       "  --xr-font-color3: rgba(255, 255, 255, 0.38);\n",
       "  --xr-border-color: #1F1F1F;\n",
       "  --xr-disabled-color: #515151;\n",
       "  --xr-background-color: #111111;\n",
       "  --xr-background-color-row-even: #111111;\n",
       "  --xr-background-color-row-odd: #313131;\n",
       "}\n",
       "\n",
       ".xr-wrap {\n",
       "  display: block;\n",
       "  min-width: 300px;\n",
       "  max-width: 700px;\n",
       "}\n",
       "\n",
       ".xr-text-repr-fallback {\n",
       "  /* fallback to plain text repr when CSS is not injected (untrusted notebook) */\n",
       "  display: none;\n",
       "}\n",
       "\n",
       ".xr-header {\n",
       "  padding-top: 6px;\n",
       "  padding-bottom: 6px;\n",
       "  margin-bottom: 4px;\n",
       "  border-bottom: solid 1px var(--xr-border-color);\n",
       "}\n",
       "\n",
       ".xr-header > div,\n",
       ".xr-header > ul {\n",
       "  display: inline;\n",
       "  margin-top: 0;\n",
       "  margin-bottom: 0;\n",
       "}\n",
       "\n",
       ".xr-obj-type,\n",
       ".xr-array-name {\n",
       "  margin-left: 2px;\n",
       "  margin-right: 10px;\n",
       "}\n",
       "\n",
       ".xr-obj-type {\n",
       "  color: var(--xr-font-color2);\n",
       "}\n",
       "\n",
       ".xr-sections {\n",
       "  padding-left: 0 !important;\n",
       "  display: grid;\n",
       "  grid-template-columns: 150px auto auto 1fr 20px 20px;\n",
       "}\n",
       "\n",
       ".xr-section-item {\n",
       "  display: contents;\n",
       "}\n",
       "\n",
       ".xr-section-item input {\n",
       "  display: none;\n",
       "}\n",
       "\n",
       ".xr-section-item input + label {\n",
       "  color: var(--xr-disabled-color);\n",
       "}\n",
       "\n",
       ".xr-section-item input:enabled + label {\n",
       "  cursor: pointer;\n",
       "  color: var(--xr-font-color2);\n",
       "}\n",
       "\n",
       ".xr-section-item input:enabled + label:hover {\n",
       "  color: var(--xr-font-color0);\n",
       "}\n",
       "\n",
       ".xr-section-summary {\n",
       "  grid-column: 1;\n",
       "  color: var(--xr-font-color2);\n",
       "  font-weight: 500;\n",
       "}\n",
       "\n",
       ".xr-section-summary > span {\n",
       "  display: inline-block;\n",
       "  padding-left: 0.5em;\n",
       "}\n",
       "\n",
       ".xr-section-summary-in:disabled + label {\n",
       "  color: var(--xr-font-color2);\n",
       "}\n",
       "\n",
       ".xr-section-summary-in + label:before {\n",
       "  display: inline-block;\n",
       "  content: '►';\n",
       "  font-size: 11px;\n",
       "  width: 15px;\n",
       "  text-align: center;\n",
       "}\n",
       "\n",
       ".xr-section-summary-in:disabled + label:before {\n",
       "  color: var(--xr-disabled-color);\n",
       "}\n",
       "\n",
       ".xr-section-summary-in:checked + label:before {\n",
       "  content: '▼';\n",
       "}\n",
       "\n",
       ".xr-section-summary-in:checked + label > span {\n",
       "  display: none;\n",
       "}\n",
       "\n",
       ".xr-section-summary,\n",
       ".xr-section-inline-details {\n",
       "  padding-top: 4px;\n",
       "  padding-bottom: 4px;\n",
       "}\n",
       "\n",
       ".xr-section-inline-details {\n",
       "  grid-column: 2 / -1;\n",
       "}\n",
       "\n",
       ".xr-section-details {\n",
       "  display: none;\n",
       "  grid-column: 1 / -1;\n",
       "  margin-bottom: 5px;\n",
       "}\n",
       "\n",
       ".xr-section-summary-in:checked ~ .xr-section-details {\n",
       "  display: contents;\n",
       "}\n",
       "\n",
       ".xr-array-wrap {\n",
       "  grid-column: 1 / -1;\n",
       "  display: grid;\n",
       "  grid-template-columns: 20px auto;\n",
       "}\n",
       "\n",
       ".xr-array-wrap > label {\n",
       "  grid-column: 1;\n",
       "  vertical-align: top;\n",
       "}\n",
       "\n",
       ".xr-preview {\n",
       "  color: var(--xr-font-color3);\n",
       "}\n",
       "\n",
       ".xr-array-preview,\n",
       ".xr-array-data {\n",
       "  padding: 0 5px !important;\n",
       "  grid-column: 2;\n",
       "}\n",
       "\n",
       ".xr-array-data,\n",
       ".xr-array-in:checked ~ .xr-array-preview {\n",
       "  display: none;\n",
       "}\n",
       "\n",
       ".xr-array-in:checked ~ .xr-array-data,\n",
       ".xr-array-preview {\n",
       "  display: inline-block;\n",
       "}\n",
       "\n",
       ".xr-dim-list {\n",
       "  display: inline-block !important;\n",
       "  list-style: none;\n",
       "  padding: 0 !important;\n",
       "  margin: 0;\n",
       "}\n",
       "\n",
       ".xr-dim-list li {\n",
       "  display: inline-block;\n",
       "  padding: 0;\n",
       "  margin: 0;\n",
       "}\n",
       "\n",
       ".xr-dim-list:before {\n",
       "  content: '(';\n",
       "}\n",
       "\n",
       ".xr-dim-list:after {\n",
       "  content: ')';\n",
       "}\n",
       "\n",
       ".xr-dim-list li:not(:last-child):after {\n",
       "  content: ',';\n",
       "  padding-right: 5px;\n",
       "}\n",
       "\n",
       ".xr-has-index {\n",
       "  font-weight: bold;\n",
       "}\n",
       "\n",
       ".xr-var-list,\n",
       ".xr-var-item {\n",
       "  display: contents;\n",
       "}\n",
       "\n",
       ".xr-var-item > div,\n",
       ".xr-var-item label,\n",
       ".xr-var-item > .xr-var-name span {\n",
       "  background-color: var(--xr-background-color-row-even);\n",
       "  margin-bottom: 0;\n",
       "}\n",
       "\n",
       ".xr-var-item > .xr-var-name:hover span {\n",
       "  padding-right: 5px;\n",
       "}\n",
       "\n",
       ".xr-var-list > li:nth-child(odd) > div,\n",
       ".xr-var-list > li:nth-child(odd) > label,\n",
       ".xr-var-list > li:nth-child(odd) > .xr-var-name span {\n",
       "  background-color: var(--xr-background-color-row-odd);\n",
       "}\n",
       "\n",
       ".xr-var-name {\n",
       "  grid-column: 1;\n",
       "}\n",
       "\n",
       ".xr-var-dims {\n",
       "  grid-column: 2;\n",
       "}\n",
       "\n",
       ".xr-var-dtype {\n",
       "  grid-column: 3;\n",
       "  text-align: right;\n",
       "  color: var(--xr-font-color2);\n",
       "}\n",
       "\n",
       ".xr-var-preview {\n",
       "  grid-column: 4;\n",
       "}\n",
       "\n",
       ".xr-var-name,\n",
       ".xr-var-dims,\n",
       ".xr-var-dtype,\n",
       ".xr-preview,\n",
       ".xr-attrs dt {\n",
       "  white-space: nowrap;\n",
       "  overflow: hidden;\n",
       "  text-overflow: ellipsis;\n",
       "  padding-right: 10px;\n",
       "}\n",
       "\n",
       ".xr-var-name:hover,\n",
       ".xr-var-dims:hover,\n",
       ".xr-var-dtype:hover,\n",
       ".xr-attrs dt:hover {\n",
       "  overflow: visible;\n",
       "  width: auto;\n",
       "  z-index: 1;\n",
       "}\n",
       "\n",
       ".xr-var-attrs,\n",
       ".xr-var-data {\n",
       "  display: none;\n",
       "  background-color: var(--xr-background-color) !important;\n",
       "  padding-bottom: 5px !important;\n",
       "}\n",
       "\n",
       ".xr-var-attrs-in:checked ~ .xr-var-attrs,\n",
       ".xr-var-data-in:checked ~ .xr-var-data {\n",
       "  display: block;\n",
       "}\n",
       "\n",
       ".xr-var-data > table {\n",
       "  float: right;\n",
       "}\n",
       "\n",
       ".xr-var-name span,\n",
       ".xr-var-data,\n",
       ".xr-attrs {\n",
       "  padding-left: 25px !important;\n",
       "}\n",
       "\n",
       ".xr-attrs,\n",
       ".xr-var-attrs,\n",
       ".xr-var-data {\n",
       "  grid-column: 1 / -1;\n",
       "}\n",
       "\n",
       "dl.xr-attrs {\n",
       "  padding: 0;\n",
       "  margin: 0;\n",
       "  display: grid;\n",
       "  grid-template-columns: 125px auto;\n",
       "}\n",
       "\n",
       ".xr-attrs dt,\n",
       ".xr-attrs dd {\n",
       "  padding: 0;\n",
       "  margin: 0;\n",
       "  float: left;\n",
       "  padding-right: 10px;\n",
       "  width: auto;\n",
       "}\n",
       "\n",
       ".xr-attrs dt {\n",
       "  font-weight: normal;\n",
       "  grid-column: 1;\n",
       "}\n",
       "\n",
       ".xr-attrs dt:hover span {\n",
       "  display: inline-block;\n",
       "  background: var(--xr-background-color);\n",
       "  padding-right: 10px;\n",
       "}\n",
       "\n",
       ".xr-attrs dd {\n",
       "  grid-column: 2;\n",
       "  white-space: pre-wrap;\n",
       "  word-break: break-all;\n",
       "}\n",
       "\n",
       ".xr-icon-database,\n",
       ".xr-icon-file-text2 {\n",
       "  display: inline-block;\n",
       "  vertical-align: middle;\n",
       "  width: 1em;\n",
       "  height: 1.5em !important;\n",
       "  stroke-width: 0;\n",
       "  stroke: currentColor;\n",
       "  fill: currentColor;\n",
       "}\n",
       "</style><pre class='xr-text-repr-fallback'>&lt;xarray.Dataset&gt;\n",
       "Dimensions:         (time: 11375)\n",
       "Coordinates:\n",
       "  * time            (time) datetime64[ns] 2022-08-15T08:59:59.937500 ... 2022...\n",
       "Data variables:\n",
       "    Burst_number    (time) float64 3.0 3.0 22.0 22.0 ... 365.0 365.0 365.0 365.0\n",
       "    East            (time) float64 nan nan nan nan nan ... nan nan nan nan nan\n",
       "    North           (time) float64 nan nan nan nan nan ... nan nan nan nan nan\n",
       "    Vertical        (time) float64 nan nan nan nan nan ... nan nan nan nan nan\n",
       "    SNR_B1          (time) float64 nan nan nan nan nan ... nan nan nan nan nan\n",
       "    SNR_B2          (time) float64 nan nan nan nan nan ... nan nan nan nan nan\n",
       "    SNR_B3          (time) float64 nan nan nan nan nan ... nan nan nan nan nan\n",
       "    Correlation_B1  (time) float64 nan nan nan nan nan ... nan nan nan nan nan\n",
       "    Correlation_B2  (time) float64 nan nan nan nan nan ... nan nan nan nan nan\n",
       "    Correlation_B3  (time) float64 nan nan nan nan nan ... nan nan nan nan nan\n",
       "    Pressure        (time) float64 9.175 9.155 10.09 10.09 ... 10.1 10.1 10.09\n",
       "Attributes:\n",
       "    description:  ADV data</pre><div class='xr-wrap' hidden><div class='xr-header'><div class='xr-obj-type'>xarray.Dataset</div></div><ul class='xr-sections'><li class='xr-section-item'><input id='section-5797902d-3b37-4935-9b59-6bed9a78bac7' class='xr-section-summary-in' type='checkbox' disabled ><label for='section-5797902d-3b37-4935-9b59-6bed9a78bac7' class='xr-section-summary'  title='Expand/collapse section'>Dimensions:</label><div class='xr-section-inline-details'><ul class='xr-dim-list'><li><span class='xr-has-index'>time</span>: 11375</li></ul></div><div class='xr-section-details'></div></li><li class='xr-section-item'><input id='section-167429b6-38ba-434b-86ff-61204986bc37' class='xr-section-summary-in' type='checkbox'  checked><label for='section-167429b6-38ba-434b-86ff-61204986bc37' class='xr-section-summary' >Coordinates: <span>(1)</span></label><div class='xr-section-inline-details'></div><div class='xr-section-details'><ul class='xr-var-list'><li class='xr-var-item'><div class='xr-var-name'><span class='xr-has-index'>time</span></div><div class='xr-var-dims'>(time)</div><div class='xr-var-dtype'>datetime64[ns]</div><div class='xr-var-preview xr-preview'>2022-08-15T08:59:59.937500 ... 2...</div><input id='attrs-65700edd-6c4f-43ed-acb1-297fd94dca1e' class='xr-var-attrs-in' type='checkbox' disabled><label for='attrs-65700edd-6c4f-43ed-acb1-297fd94dca1e' title='Show/Hide attributes'><svg class='icon xr-icon-file-text2'><use xlink:href='#icon-file-text2'></use></svg></label><input id='data-fc4e792b-45ba-42ef-ab77-17772d3a45dd' class='xr-var-data-in' type='checkbox'><label for='data-fc4e792b-45ba-42ef-ab77-17772d3a45dd' title='Show/Hide data repr'><svg class='icon xr-icon-database'><use xlink:href='#icon-database'></use></svg></label><div class='xr-var-attrs'><dl class='xr-attrs'></dl></div><div class='xr-var-data'><pre>array([&#x27;2022-08-15T08:59:59.937500000&#x27;, &#x27;2022-08-15T08:59:59.968750000&#x27;,\n",
       "       &#x27;2022-08-16T03:41:30.406250000&#x27;, ..., &#x27;2022-08-30T10:51:43.125000000&#x27;,\n",
       "       &#x27;2022-08-30T10:51:43.156250000&#x27;, &#x27;2022-08-30T10:51:43.187500000&#x27;],\n",
       "      dtype=&#x27;datetime64[ns]&#x27;)</pre></div></li></ul></div></li><li class='xr-section-item'><input id='section-fda77c93-46e9-421e-aa21-5b98eaa3420f' class='xr-section-summary-in' type='checkbox'  checked><label for='section-fda77c93-46e9-421e-aa21-5b98eaa3420f' class='xr-section-summary' >Data variables: <span>(11)</span></label><div class='xr-section-inline-details'></div><div class='xr-section-details'><ul class='xr-var-list'><li class='xr-var-item'><div class='xr-var-name'><span>Burst_number</span></div><div class='xr-var-dims'>(time)</div><div class='xr-var-dtype'>float64</div><div class='xr-var-preview xr-preview'>3.0 3.0 22.0 ... 365.0 365.0 365.0</div><input id='attrs-e3b7b4ce-5ca0-447e-a9c4-9a70ab483dff' class='xr-var-attrs-in' type='checkbox' ><label for='attrs-e3b7b4ce-5ca0-447e-a9c4-9a70ab483dff' title='Show/Hide attributes'><svg class='icon xr-icon-file-text2'><use xlink:href='#icon-file-text2'></use></svg></label><input id='data-9252b251-7097-4517-a5b9-f767be0ada38' class='xr-var-data-in' type='checkbox'><label for='data-9252b251-7097-4517-a5b9-f767be0ada38' title='Show/Hide data repr'><svg class='icon xr-icon-database'><use xlink:href='#icon-database'></use></svg></label><div class='xr-var-attrs'><dl class='xr-attrs'><dt><span>description :</span></dt><dd>Burst counter</dd></dl></div><div class='xr-var-data'><pre>array([  3.,   3.,  22., ..., 365., 365., 365.])</pre></div></li><li class='xr-var-item'><div class='xr-var-name'><span>East</span></div><div class='xr-var-dims'>(time)</div><div class='xr-var-dtype'>float64</div><div class='xr-var-preview xr-preview'>nan nan nan nan ... nan nan nan nan</div><input id='attrs-bd13f82d-4357-42e6-8006-800c6d05bd7e' class='xr-var-attrs-in' type='checkbox' ><label for='attrs-bd13f82d-4357-42e6-8006-800c6d05bd7e' title='Show/Hide attributes'><svg class='icon xr-icon-file-text2'><use xlink:href='#icon-file-text2'></use></svg></label><input id='data-eb1ff1fe-6dbc-45c8-8870-47734421cf06' class='xr-var-data-in' type='checkbox'><label for='data-eb1ff1fe-6dbc-45c8-8870-47734421cf06' title='Show/Hide data repr'><svg class='icon xr-icon-database'><use xlink:href='#icon-database'></use></svg></label><div class='xr-var-attrs'><dl class='xr-attrs'><dt><span>units :</span></dt><dd>m/s</dd></dl></div><div class='xr-var-data'><pre>array([nan, nan, nan, ..., nan, nan, nan])</pre></div></li><li class='xr-var-item'><div class='xr-var-name'><span>North</span></div><div class='xr-var-dims'>(time)</div><div class='xr-var-dtype'>float64</div><div class='xr-var-preview xr-preview'>nan nan nan nan ... nan nan nan nan</div><input id='attrs-6db3fc02-6a2a-467d-b136-215bb4ca78d2' class='xr-var-attrs-in' type='checkbox' ><label for='attrs-6db3fc02-6a2a-467d-b136-215bb4ca78d2' title='Show/Hide attributes'><svg class='icon xr-icon-file-text2'><use xlink:href='#icon-file-text2'></use></svg></label><input id='data-8e8009be-413d-4faa-ab22-aab0db47e29d' class='xr-var-data-in' type='checkbox'><label for='data-8e8009be-413d-4faa-ab22-aab0db47e29d' title='Show/Hide data repr'><svg class='icon xr-icon-database'><use xlink:href='#icon-database'></use></svg></label><div class='xr-var-attrs'><dl class='xr-attrs'><dt><span>units :</span></dt><dd>m/s</dd></dl></div><div class='xr-var-data'><pre>array([nan, nan, nan, ..., nan, nan, nan])</pre></div></li><li class='xr-var-item'><div class='xr-var-name'><span>Vertical</span></div><div class='xr-var-dims'>(time)</div><div class='xr-var-dtype'>float64</div><div class='xr-var-preview xr-preview'>nan nan nan nan ... nan nan nan nan</div><input id='attrs-97cf63c9-a147-4529-a718-540df79df456' class='xr-var-attrs-in' type='checkbox' ><label for='attrs-97cf63c9-a147-4529-a718-540df79df456' title='Show/Hide attributes'><svg class='icon xr-icon-file-text2'><use xlink:href='#icon-file-text2'></use></svg></label><input id='data-faa5287f-3c8f-4c98-8b52-eede618665a5' class='xr-var-data-in' type='checkbox'><label for='data-faa5287f-3c8f-4c98-8b52-eede618665a5' title='Show/Hide data repr'><svg class='icon xr-icon-database'><use xlink:href='#icon-database'></use></svg></label><div class='xr-var-attrs'><dl class='xr-attrs'><dt><span>units :</span></dt><dd>m/s</dd></dl></div><div class='xr-var-data'><pre>array([nan, nan, nan, ..., nan, nan, nan])</pre></div></li><li class='xr-var-item'><div class='xr-var-name'><span>SNR_B1</span></div><div class='xr-var-dims'>(time)</div><div class='xr-var-dtype'>float64</div><div class='xr-var-preview xr-preview'>nan nan nan nan ... nan nan nan nan</div><input id='attrs-1c0785ea-5061-46fb-b469-e23b2ed71014' class='xr-var-attrs-in' type='checkbox' ><label for='attrs-1c0785ea-5061-46fb-b469-e23b2ed71014' title='Show/Hide attributes'><svg class='icon xr-icon-file-text2'><use xlink:href='#icon-file-text2'></use></svg></label><input id='data-baf09571-54eb-4ad2-9ad0-a68a693ad194' class='xr-var-data-in' type='checkbox'><label for='data-baf09571-54eb-4ad2-9ad0-a68a693ad194' title='Show/Hide data repr'><svg class='icon xr-icon-database'><use xlink:href='#icon-database'></use></svg></label><div class='xr-var-attrs'><dl class='xr-attrs'><dt><span>units :</span></dt><dd>dB</dd><dt><span>description :</span></dt><dd>Signal to noise ratio of beam 1.</dd></dl></div><div class='xr-var-data'><pre>array([nan, nan, nan, ..., nan, nan, nan])</pre></div></li><li class='xr-var-item'><div class='xr-var-name'><span>SNR_B2</span></div><div class='xr-var-dims'>(time)</div><div class='xr-var-dtype'>float64</div><div class='xr-var-preview xr-preview'>nan nan nan nan ... nan nan nan nan</div><input id='attrs-9527c35a-d86b-4dcd-b6f4-a44fc298717f' class='xr-var-attrs-in' type='checkbox' ><label for='attrs-9527c35a-d86b-4dcd-b6f4-a44fc298717f' title='Show/Hide attributes'><svg class='icon xr-icon-file-text2'><use xlink:href='#icon-file-text2'></use></svg></label><input id='data-f7f83443-8350-4caf-8a39-9193ec5b708d' class='xr-var-data-in' type='checkbox'><label for='data-f7f83443-8350-4caf-8a39-9193ec5b708d' title='Show/Hide data repr'><svg class='icon xr-icon-database'><use xlink:href='#icon-database'></use></svg></label><div class='xr-var-attrs'><dl class='xr-attrs'><dt><span>units :</span></dt><dd>dB</dd><dt><span>description :</span></dt><dd>Signal to noise ratio of beam 2.</dd></dl></div><div class='xr-var-data'><pre>array([nan, nan, nan, ..., nan, nan, nan])</pre></div></li><li class='xr-var-item'><div class='xr-var-name'><span>SNR_B3</span></div><div class='xr-var-dims'>(time)</div><div class='xr-var-dtype'>float64</div><div class='xr-var-preview xr-preview'>nan nan nan nan ... nan nan nan nan</div><input id='attrs-ea32e2d3-055a-49f8-9048-9f8353117a23' class='xr-var-attrs-in' type='checkbox' ><label for='attrs-ea32e2d3-055a-49f8-9048-9f8353117a23' title='Show/Hide attributes'><svg class='icon xr-icon-file-text2'><use xlink:href='#icon-file-text2'></use></svg></label><input id='data-df47b7a5-b8df-400c-b2b7-98bf9a04bbcd' class='xr-var-data-in' type='checkbox'><label for='data-df47b7a5-b8df-400c-b2b7-98bf9a04bbcd' title='Show/Hide data repr'><svg class='icon xr-icon-database'><use xlink:href='#icon-database'></use></svg></label><div class='xr-var-attrs'><dl class='xr-attrs'><dt><span>units :</span></dt><dd>dB</dd><dt><span>description :</span></dt><dd>Signal to noise ratio of beam 3.</dd></dl></div><div class='xr-var-data'><pre>array([nan, nan, nan, ..., nan, nan, nan])</pre></div></li><li class='xr-var-item'><div class='xr-var-name'><span>Correlation_B1</span></div><div class='xr-var-dims'>(time)</div><div class='xr-var-dtype'>float64</div><div class='xr-var-preview xr-preview'>nan nan nan nan ... nan nan nan nan</div><input id='attrs-0bdd8ecc-87d4-45e9-9a08-2393dab2b6a3' class='xr-var-attrs-in' type='checkbox' ><label for='attrs-0bdd8ecc-87d4-45e9-9a08-2393dab2b6a3' title='Show/Hide attributes'><svg class='icon xr-icon-file-text2'><use xlink:href='#icon-file-text2'></use></svg></label><input id='data-5d94cbc6-fd8b-42e2-a6c9-4117a9480e4f' class='xr-var-data-in' type='checkbox'><label for='data-5d94cbc6-fd8b-42e2-a6c9-4117a9480e4f' title='Show/Hide data repr'><svg class='icon xr-icon-database'><use xlink:href='#icon-database'></use></svg></label><div class='xr-var-attrs'><dl class='xr-attrs'><dt><span>units :</span></dt><dd>%</dd><dt><span>description :</span></dt><dd>Beam correlation measurment from beam 1.</dd></dl></div><div class='xr-var-data'><pre>array([nan, nan, nan, ..., nan, nan, nan])</pre></div></li><li class='xr-var-item'><div class='xr-var-name'><span>Correlation_B2</span></div><div class='xr-var-dims'>(time)</div><div class='xr-var-dtype'>float64</div><div class='xr-var-preview xr-preview'>nan nan nan nan ... nan nan nan nan</div><input id='attrs-323a851b-04ae-400d-8c75-2e20820829e2' class='xr-var-attrs-in' type='checkbox' ><label for='attrs-323a851b-04ae-400d-8c75-2e20820829e2' title='Show/Hide attributes'><svg class='icon xr-icon-file-text2'><use xlink:href='#icon-file-text2'></use></svg></label><input id='data-ac87f8f4-5486-4e32-a83e-54d91a45b9ef' class='xr-var-data-in' type='checkbox'><label for='data-ac87f8f4-5486-4e32-a83e-54d91a45b9ef' title='Show/Hide data repr'><svg class='icon xr-icon-database'><use xlink:href='#icon-database'></use></svg></label><div class='xr-var-attrs'><dl class='xr-attrs'><dt><span>units :</span></dt><dd>%</dd><dt><span>description :</span></dt><dd>Beam correlation measurment from beam 2.</dd></dl></div><div class='xr-var-data'><pre>array([nan, nan, nan, ..., nan, nan, nan])</pre></div></li><li class='xr-var-item'><div class='xr-var-name'><span>Correlation_B3</span></div><div class='xr-var-dims'>(time)</div><div class='xr-var-dtype'>float64</div><div class='xr-var-preview xr-preview'>nan nan nan nan ... nan nan nan nan</div><input id='attrs-abe8c1c4-a680-4d08-a181-fa0e48fafb5d' class='xr-var-attrs-in' type='checkbox' ><label for='attrs-abe8c1c4-a680-4d08-a181-fa0e48fafb5d' title='Show/Hide attributes'><svg class='icon xr-icon-file-text2'><use xlink:href='#icon-file-text2'></use></svg></label><input id='data-f1c53551-fe8d-4e59-bb5d-62240f9bcb08' class='xr-var-data-in' type='checkbox'><label for='data-f1c53551-fe8d-4e59-bb5d-62240f9bcb08' title='Show/Hide data repr'><svg class='icon xr-icon-database'><use xlink:href='#icon-database'></use></svg></label><div class='xr-var-attrs'><dl class='xr-attrs'><dt><span>units :</span></dt><dd>%</dd><dt><span>description :</span></dt><dd>Beam correlation measurment from beam 3.</dd></dl></div><div class='xr-var-data'><pre>array([nan, nan, nan, ..., nan, nan, nan])</pre></div></li><li class='xr-var-item'><div class='xr-var-name'><span>Pressure</span></div><div class='xr-var-dims'>(time)</div><div class='xr-var-dtype'>float64</div><div class='xr-var-preview xr-preview'>9.175 9.155 10.09 ... 10.1 10.09</div><input id='attrs-8ed59435-05de-41f6-a145-7fefded9691d' class='xr-var-attrs-in' type='checkbox' ><label for='attrs-8ed59435-05de-41f6-a145-7fefded9691d' title='Show/Hide attributes'><svg class='icon xr-icon-file-text2'><use xlink:href='#icon-file-text2'></use></svg></label><input id='data-652c46ef-9e92-4061-adf5-960a772ab819' class='xr-var-data-in' type='checkbox'><label for='data-652c46ef-9e92-4061-adf5-960a772ab819' title='Show/Hide data repr'><svg class='icon xr-icon-database'><use xlink:href='#icon-database'></use></svg></label><div class='xr-var-attrs'><dl class='xr-attrs'><dt><span>units :</span></dt><dd>dBar</dd><dt><span>description :</span></dt><dd>Ambient pressure recorded by the instrument at the same frequency as the velocity data.</dd></dl></div><div class='xr-var-data'><pre>array([ 9.175,  9.155, 10.092, ..., 10.097, 10.102, 10.087])</pre></div></li></ul></div></li><li class='xr-section-item'><input id='section-b9d05fc5-302a-4902-b83b-bb4f08f2c14e' class='xr-section-summary-in' type='checkbox'  checked><label for='section-b9d05fc5-302a-4902-b83b-bb4f08f2c14e' class='xr-section-summary' >Attributes: <span>(1)</span></label><div class='xr-section-inline-details'></div><div class='xr-section-details'><dl class='xr-attrs'><dt><span>description :</span></dt><dd>ADV data</dd></dl></div></li></ul></div></div>"
      ],
      "text/plain": [
       "<xarray.Dataset>\n",
       "Dimensions:         (time: 11375)\n",
       "Coordinates:\n",
       "  * time            (time) datetime64[ns] 2022-08-15T08:59:59.937500 ... 2022...\n",
       "Data variables:\n",
       "    Burst_number    (time) float64 3.0 3.0 22.0 22.0 ... 365.0 365.0 365.0 365.0\n",
       "    East            (time) float64 nan nan nan nan nan ... nan nan nan nan nan\n",
       "    North           (time) float64 nan nan nan nan nan ... nan nan nan nan nan\n",
       "    Vertical        (time) float64 nan nan nan nan nan ... nan nan nan nan nan\n",
       "    SNR_B1          (time) float64 nan nan nan nan nan ... nan nan nan nan nan\n",
       "    SNR_B2          (time) float64 nan nan nan nan nan ... nan nan nan nan nan\n",
       "    SNR_B3          (time) float64 nan nan nan nan nan ... nan nan nan nan nan\n",
       "    Correlation_B1  (time) float64 nan nan nan nan nan ... nan nan nan nan nan\n",
       "    Correlation_B2  (time) float64 nan nan nan nan nan ... nan nan nan nan nan\n",
       "    Correlation_B3  (time) float64 nan nan nan nan nan ... nan nan nan nan nan\n",
       "    Pressure        (time) float64 9.175 9.155 10.09 10.09 ... 10.1 10.1 10.09\n",
       "Attributes:\n",
       "    description:  ADV data"
      ]
     },
     "execution_count": 112,
     "metadata": {},
     "output_type": "execute_result"
    }
   ],
   "source": [
    "# Now do it for second turbulent dissipation dataset\n",
    "\n",
    "delta = timedelta(seconds=1, milliseconds = 31.25) # Maximum gap of less than 1 second and 31.25 milliseconds\n",
    "e2_inter = e2.interpolate_na(dim=\"time\", method=\"linear\", max_gap = delta) # Linearly interpolates across gaps up to a limit denoted by time delta\n",
    "\n",
    "# Interpolate_na cannot estimate data gaps without start or end points, or gaps exceeding the time delta\n",
    "gaps = e2_inter.where(e2_inter.East.isnull() == True, drop = True) # Generate a dataset with all leftover uninterpolated gaps\n",
    "gaps"
   ]
  },
  {
   "cell_type": "code",
   "execution_count": 129,
   "metadata": {},
   "outputs": [],
   "source": [
    "tdiff = np.diff(gaps.time, axis = 0, prepend = gaps.time[0])/1000000"
   ]
  },
  {
   "cell_type": "code",
   "execution_count": 263,
   "metadata": {},
   "outputs": [],
   "source": [
    "gap_count = 0\n",
    "times = np.array(gaps.time)\n",
    "gap_times_list = []\n",
    "gap_count_list = []\n",
    "final_time = times[-1]\n",
    "for i in range(len(tdiff)):\n",
    "    if np.int(tdiff[i]) <= 32:\n",
    "        start_time = times[i-gap_count]\n",
    "        gap_count = gap_count + 1\n",
    "    elif (np.int(tdiff[i]) > 32) | (i == len(tdiff)):\n",
    "        gap_times_list.append([start_time, times[i-1]])\n",
    "        gap_count_list.append(gap_count)\n",
    "        gap_count = 0"
   ]
  },
  {
   "cell_type": "code",
   "execution_count": 264,
   "metadata": {},
   "outputs": [],
   "source": [
    "counts = np.array(gap_count_list)\n",
    "gap_times = np.array(gap_times_list)"
   ]
  },
  {
   "cell_type": "code",
   "execution_count": 252,
   "metadata": {},
   "outputs": [],
   "source": [
    "goodtimes = []\n",
    "badtimes = []\n",
    "for i in range(len(counts)):\n",
    "    if counts[i] <= 32:\n",
    "        badtimes.append(gap_times[i])\n",
    "    else:\n",
    "        goodtimes.append(gap_times[i])"
   ]
  },
  {
   "cell_type": "code",
   "execution_count": null,
   "metadata": {},
   "outputs": [],
   "source": [
    "gap_times"
   ]
  },
  {
   "cell_type": "code",
   "execution_count": 249,
   "metadata": {},
   "outputs": [
    {
     "data": {
      "text/plain": [
       "array([      31,       31,       31,       31,       31,  3717000,\n",
       "        3600000, 28301125,       31,       31,       31,       31,\n",
       "             31,       31,       31,       31,       31,       31,\n",
       "             31,       31,       31,       31,       31,       31,\n",
       "             31,       31,       31,       31,       31,       31,\n",
       "             31,       31,       31,       31,       31,       31,\n",
       "             31,       31,       31,       31,       31,       31,\n",
       "             31,       31,       31,       31,       31,       31,\n",
       "             31,       31,       31,       31,       31,       31,\n",
       "             31,       31,       31,       31,       31,       31,\n",
       "             31,       31,       31,       31,       31,       31,\n",
       "             31,       31,       31,       31,       31,       31,\n",
       "             31,       31], dtype='timedelta64[ns]')"
      ]
     },
     "execution_count": 249,
     "metadata": {},
     "output_type": "execute_result"
    }
   ],
   "source": [
    "tdiff[11300:11374]"
   ]
  },
  {
   "cell_type": "markdown",
   "metadata": {},
   "source": [
    "### Spectral analysis"
   ]
  },
  {
   "cell_type": "code",
   "execution_count": 3,
   "metadata": {},
   "outputs": [],
   "source": [
    "e1_inter = xr.open_dataset('ADV/e1_inter.nc')\n",
    "temp = xr.open_dataset('Temperature/temp_w_rho.nc')"
   ]
  },
  {
   "cell_type": "code",
   "execution_count": 4,
   "metadata": {},
   "outputs": [],
   "source": [
    "# THE FOLLOWING CODE IS ADAPTED FROM STEVEN CUNNINGHAM'S MASTERS THESIS (2019)\n",
    "\n",
    "# Rotate velocity data along the principle axes U and V\n",
    "theta, major, minor = ts.princax(e1_inter.East, e1_inter.North) # theta = angle, major = SD major axis (U), SD minor axis (V)\n",
    "U, V = ts.rot(e1_inter.East, e1_inter.North, -theta)\n",
    "e1_inter['U'] = U\n",
    "e1_inter['V'] = V\n",
    "# Vertical velocity is the W component"
   ]
  },
  {
   "cell_type": "code",
   "execution_count": 5,
   "metadata": {},
   "outputs": [],
   "source": [
    "from scipy.optimize import curve_fit\n",
    "def power_law(x, a, b):\n",
    "    return a*np.power(x, b)"
   ]
  },
  {
   "cell_type": "code",
   "execution_count": 8,
   "metadata": {},
   "outputs": [
    {
     "data": {
      "image/png": "[encoded data removed]",
      "text/plain": [
       "<Figure size 432x288 with 1 Axes>"
      ]
     },
     "metadata": {
      "needs_background": "light"
     },
     "output_type": "display_data"
    }
   ],
   "source": [
    "#blist = np.unique(e1_inter.Burst_number)\n",
    "blist = [29]\n",
    "for i in range(len(blist)):\n",
    "    burst_number = blist[i]\n",
    "    burst = e1_inter.where(e1_inter.Burst_number.isin(burst_number), drop = True)\n",
    "\n",
    "    # Smoothing out the spectra\n",
    "    F_hanning, S_hanning = welch(burst.Vertical, fs=32, nperseg= 2240, window='hanning', detrend='linear') # Feddderson uses 70s windows (70 * 32Hz = 2240 point segments)\n",
    "    # Fit the dummy power-law data\n",
    "    pars, cov = curve_fit(f=power_law, xdata=F_hanning[60:200], ydata=S_hanning[60:200], p0=[0, 0], bounds=(-np.inf, np.inf))\n",
    "    stdevs = np.sqrt(np.diag(cov))\n",
    "    slope_line = pars[0]*(F_hanning[60:200]**(-5/3))\n",
    "\n",
    "    plt.figure()\n",
    "    plt.title('Power density spectra from burst number ' + str(burst_number) + ' (' + str(pars[1]) + ')')\n",
    "    plt.loglog(F_hanning, S_hanning, '-k')\n",
    "    plt.loglog(F_hanning[60:200], slope_line, '.r')\n",
    "    plt.xlabel('frequency [cps]')\n",
    "    plt.ylabel('PSD')"
   ]
  },
  {
   "cell_type": "markdown",
   "metadata": {},
   "source": [
    "### Good bursts for estimating turbulent dissipation in deployment 1\n",
    "- 8, 9?, 14?, 29, 30, 41?, 42???, 45, 52, 59, 64, 75, 76, 77"
   ]
  },
  {
   "cell_type": "code",
   "execution_count": null,
   "metadata": {},
   "outputs": [],
   "source": [
    "# Function for estimating k from wave period and total depth using dispersion relationships\n",
    "def wavedisp(wavper,h):\n",
    "    \"\"\" \n",
    "    (omega,k,Cph,Cg) = wavedisp(wavper,h)\n",
    "    ------------------\n",
    "    Returns [omega,k,Cph,Cg]\n",
    "\n",
    "    Inputs (can use arrays): \n",
    "            wavper - wave period [s]\n",
    "            h - water depth [m]\n",
    "   \n",
    "    Outputs: \n",
    "    omega - angular wave frequency [radians/s]\n",
    "    k - angular wave number\t [radians/m]\n",
    "    Cph - phase speed [m/s]\n",
    "    Cg - group velocity [m/s]\n",
    "    \"\"\"\n",
    "\n",
    "    \"\"\" T Connolly 2014\n",
    "    based on Matlab function wavedisp.m from S Lentz \"\"\"\n",
    "    # make sure inputs are arrays\n",
    "    wavper=np.array(wavper)\n",
    "    h=np.array(h)\n",
    "    \n",
    "    omega = (2*np.pi)/wavper\n",
    "    g = 9.8\n",
    "    c = omega**2*h/g\n",
    "    \n",
    "    x = np.sqrt(c)\n",
    "    \n",
    "    d = 100*np.ones(np.shape(wavper))\n",
    "    tol = 5.*np.finfo(float).eps\n",
    "    while (d>tol).any():\n",
    "        f1=x*np.tanh(x)-c\n",
    "        f2=x*(1/np.cosh(x))**2+np.tanh(x)\n",
    "        x=x-f1/f2\n",
    "        d=np.abs((c-x*np.tanh(x))/c)\n",
    "    k=x/h\n",
    "    Cph=omega/k\n",
    "    Cg=(g*x*(1/np.cosh(x))**2+g*np.tanh(x))/(2*np.sqrt(g*k*np.tanh(x)))\n",
    "    \n",
    "    return (omega,k,Cph,Cg)"
   ]
  },
  {
   "cell_type": "code",
   "execution_count": 106,
   "metadata": {},
   "outputs": [
    {
     "name": "stderr",
     "output_type": "stream",
     "text": [
      "<ipython-input-106-497e43374b93>:28: RuntimeWarning: divide by zero encountered in true_divide\n",
      "  T = 1/Fp\n",
      "<ipython-input-30-8bf9e13ee0b9>:35: RuntimeWarning: invalid value encountered in true_divide\n",
      "  x=x-f1/f2\n",
      "<ipython-input-30-8bf9e13ee0b9>:34: RuntimeWarning: overflow encountered in cosh\n",
      "  f2=x*(1/np.cosh(x))**2+np.tanh(x)\n",
      "<ipython-input-30-8bf9e13ee0b9>:39: RuntimeWarning: overflow encountered in cosh\n",
      "  Cg=(g*x*(1/np.cosh(x))**2+g*np.tanh(x))/(2*np.sqrt(g*k*np.tanh(x)))\n",
      "C:\\Users\\Chili\\anaconda\\lib\\site-packages\\xarray\\core\\computation.py:724: RuntimeWarning: overflow encountered in cosh\n",
      "  result_data = func(*input_data)\n",
      "C:\\Users\\Chili\\anaconda\\lib\\site-packages\\xarray\\core\\computation.py:724: RuntimeWarning: overflow encountered in sinh\n",
      "  result_data = func(*input_data)\n",
      "C:\\Users\\Chili\\anaconda\\lib\\site-packages\\xarray\\core\\computation.py:724: RuntimeWarning: overflow encountered in multiply\n",
      "  result_data = func(*input_data)\n",
      "<ipython-input-106-497e43374b93>:40: RuntimeWarning: divide by zero encountered in true_divide\n",
      "  scale_factor = w_prime**2 / p_prime**2\n",
      "<ipython-input-106-497e43374b93>:40: RuntimeWarning: invalid value encountered in true_divide\n",
      "  scale_factor = w_prime**2 / p_prime**2\n"
     ]
    }
   ],
   "source": [
    "# Filtering out waves from spectra\n",
    "\n",
    "# Select data run to be filtered\n",
    "burst = e1_inter.where(e1_inter.Burst_number.isin(52), drop = True) # Burst 52 is best spectra so far\n",
    "\n",
    "# Since the goal is to find the specific spectra of waves, a spectrum of pressure is used over vertical velocity\n",
    "Fp, Sp = welch(burst.Pressure, fs=32, nperseg= 2240, window='hanning') # Pressure spectra\n",
    "Fw, Sw = welch(burst.Vertical, fs=32, nperseg= 2240, window='hanning') # Vertical velocity spectra\n",
    "\n",
    "# Required variables for conversion:\n",
    "\n",
    "# Gravity\n",
    "g = 9.8\n",
    "\n",
    "# Density\n",
    "rho = np.mean(temp.Rho.sel(time=slice(burst.time[0], burst.time[-1])))+1000\n",
    "\n",
    "# Depth\n",
    "H = np.mean(burst.Pressure) + .578 # Mean pressure detected by the sensor plus the height of sensor from the bottom\n",
    "\n",
    "# Depth of pressure sensor\n",
    "Zp = -(np.mean(burst.Pressure))\n",
    "\n",
    "# Depth of velocity sensor\n",
    "Zv = (-H) + .824 # Total depth plus the height of the velocity transducers from the bottom\n",
    "\n",
    "# Period\n",
    "T = 1/Fp\n",
    "\n",
    "# Omega (radian frequency) and wavenumber (k)\n",
    "omega,k,Cph,Cg = wavedisp(T, H)\n",
    "\n",
    "# Generate empty arrays for p' and w' values\n",
    "p_prime = np.empty(len(omega))\n",
    "w_prime = np.empty(len(omega))\n",
    "\n",
    "for i in range(len(omega)): # For loops iterates over all values of omega\n",
    "    p_prime[i] = (rho*g)*(np.cosh(k[i]*(Zp+H))/np.cosh(k[i]*H))\n",
    "    w_prime[i] = (-omega[i])*(np.sinh(k[i]*(Zv+H)))/(np.sinh(k[i]*H))\n",
    "scale_factor = w_prime**2 / p_prime**2\n",
    "\n",
    "Sw_from_Sp = (Sp * scale_factor)*100000000"
   ]
  },
  {
   "cell_type": "code",
   "execution_count": 107,
   "metadata": {},
   "outputs": [
    {
     "data": {
      "text/plain": [
       "[<matplotlib.lines.Line2D at 0x21a39167430>]"
      ]
     },
     "execution_count": 107,
     "metadata": {},
     "output_type": "execute_result"
    },
    {
     "data": {
      "image/png": "[encoded data removed]",
      "text/plain": [
       "<Figure size 432x288 with 1 Axes>"
      ]
     },
     "metadata": {
      "needs_background": "light"
     },
     "output_type": "display_data"
    }
   ],
   "source": [
    "plt.figure()\n",
    "plt.loglog(omega, Sw) # Original vertical velocity spectra\n",
    "plt.loglog(omega, Sw_from_Sp) # velocity spectra estiamted from pressure"
   ]
  },
  {
   "cell_type": "code",
   "execution_count": 101,
   "metadata": {},
   "outputs": [
    {
     "data": {
      "text/plain": [
       "[<matplotlib.lines.Line2D at 0x21a23d9bd60>]"
      ]
     },
     "execution_count": 101,
     "metadata": {},
     "output_type": "execute_result"
    },
    {
     "data": {
      "image/png": "[encoded data removed]",
      "text/plain": [
       "<Figure size 432x288 with 1 Axes>"
      ]
     },
     "metadata": {
      "needs_background": "light"
     },
     "output_type": "display_data"
    }
   ],
   "source": [
    "plt.figure()\n",
    "plt.loglog(Fp, Sp, '-k')\n",
    "plt.loglog(Fw, Sw, '-r')"
   ]
  },
  {
   "cell_type": "code",
   "execution_count": 100,
   "metadata": {},
   "outputs": [
    {
     "data": {
      "text/plain": [
       "array([0.00000000e+00, 1.42857143e-02, 2.85714286e-02, ...,\n",
       "       1.59714286e+01, 1.59857143e+01, 1.60000000e+01])"
      ]
     },
     "execution_count": 100,
     "metadata": {},
     "output_type": "execute_result"
    }
   ],
   "source": [
    "."
   ]
  },
  {
   "cell_type": "code",
   "execution_count": 84,
   "metadata": {},
   "outputs": [
    {
     "data": {
      "text/plain": [
       "[<matplotlib.lines.Line2D at 0x21a36d73d60>]"
      ]
     },
     "execution_count": 84,
     "metadata": {},
     "output_type": "execute_result"
    },
    {
     "data": {
      "image/png": "[encoded data removed]",
      "text/plain": [
       "<Figure size 432x288 with 1 Axes>"
      ]
     },
     "metadata": {
      "needs_background": "light"
     },
     "output_type": "display_data"
    }
   ],
   "source": [
    "plt.figure()\n",
    "plt.loglog(Fp, Sw_from_Sp)"
   ]
  },
  {
   "cell_type": "code",
   "execution_count": 30,
   "metadata": {},
   "outputs": [],
   "source": []
  },
  {
   "cell_type": "code",
   "execution_count": 38,
   "metadata": {},
   "outputs": [
    {
     "name": "stderr",
     "output_type": "stream",
     "text": [
      "<ipython-input-38-17f8b15df904>:1: RuntimeWarning: divide by zero encountered in true_divide\n",
      "  T = 1/Fp\n"
     ]
    }
   ],
   "source": [
    "T = \n",
    "H = np.float(np.mean(burst.Pressure) + .578)"
   ]
  },
  {
   "cell_type": "code",
   "execution_count": 41,
   "metadata": {},
   "outputs": [
    {
     "name": "stderr",
     "output_type": "stream",
     "text": [
      "<ipython-input-30-8bf9e13ee0b9>:35: RuntimeWarning: invalid value encountered in true_divide\n",
      "  x=x-f1/f2\n",
      "<ipython-input-30-8bf9e13ee0b9>:34: RuntimeWarning: overflow encountered in cosh\n",
      "  f2=x*(1/np.cosh(x))**2+np.tanh(x)\n",
      "<ipython-input-30-8bf9e13ee0b9>:39: RuntimeWarning: overflow encountered in cosh\n",
      "  Cg=(g*x*(1/np.cosh(x))**2+g*np.tanh(x))/(2*np.sqrt(g*k*np.tanh(x)))\n"
     ]
    }
   ],
   "source": []
  },
  {
   "cell_type": "code",
   "execution_count": null,
   "metadata": {},
   "outputs": [],
   "source": []
  }
 ],
 "metadata": {
  "kernelspec": {
   "display_name": "Python 3",
   "language": "python",
   "name": "python3"
  },
  "language_info": {
   "codemirror_mode": {
    "name": "ipython",
    "version": 3
   },
   "file_extension": ".py",
   "mimetype": "text/x-python",
   "name": "python",
   "nbconvert_exporter": "python",
   "pygments_lexer": "ipython3",
   "version": "3.8.5"
  }
 },
 "nbformat": 4,
 "nbformat_minor": 4
}
