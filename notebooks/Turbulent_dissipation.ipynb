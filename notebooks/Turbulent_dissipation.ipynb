{
 "cells": [
  {
   "cell_type": "code",
   "execution_count": 100,
   "metadata": {},
   "outputs": [],
   "source": [
    "import pandas as pd\n",
    "import numpy as np\n",
    "import matplotlib.pyplot as plt\n",
    "import matplotlib.colors\n",
    "import xarray as xr\n",
    "import gsw # https://teos-10.github.io/GSW-Python/gsw_flat.html\n",
    "import vector_tools as vt\n",
    "import Functions as fn\n",
    "\n",
    "#import matplotlib.patches as mpatches\n",
    "from physoce import tseries as ts \n",
    "from scipy.signal import welch \n",
    "from scipy.stats import chi2 \n",
    "from scipy import stats\n",
    "from scipy.signal import periodogram\n",
    "from scipy.signal import argrelextrema\n",
    "from scipy.optimize import curve_fit\n",
    "from datetime import timedelta\n",
    "\n",
    "import sys\n",
    "if not sys.warnoptions:\n",
    "    import warnings\n",
    "    warnings.simplefilter(\"ignore\")"
   ]
  },
  {
   "cell_type": "markdown",
   "metadata": {},
   "source": [
    "# Spectral analysis and turbulent dissipation estimates\n",
    "\n",
    "### Additional quality control for turbulent dissipation\n",
    "- Additional QC of adv data is used to flag data runs (bursts of data) that have gaps of high correlation and signal strength (SNR)\n",
    "- Parameters for dissipation QC are used from Fedderson, 2010 (\"Quality controlling surf zone acoustic Doppler velocimeter observations to estimate the turbulent dissipation rate\")\n",
    "    - SNR on each beam should be > 15dB\n",
    "    - CORR on each beam should be above .3 + .4(SQRT(f_s/f_max)), where f_s is the instrument sampling frequency, and f_max is the maximum sampling frequency the instrument is capable of \n",
    "    - Fraction of \"bad data\" to good data for each run is determined as sigmaSS and sigmaCORR\n",
    "        - sigmaSS <= .1 (34560/38400 data points, or two minutes of \"bad data\" allowed)\n",
    "        - sigmaCORR <= .7 (11520/38400 data points, or 14 minutes of \"bad data\" allowed)\n",
    "    - Bad data runs that do not meet these criteria are discarded, and the remaining good data runs are \"fixed\"\n",
    "        - Gaps in data <= 1s long are linearly interpolated between the good data points bounding the gap\n",
    "        - Longer gaps are averaged and the entire gap is set to the averaged value\n",
    "        - If the gap is significantly longer than a couple seconds, \"patching\" may be used\n",
    "        - Patching removes the larger gaps in data and joins the good data points together, but may cause bias via time shifting in the frequency spectra"
   ]
  },
  {
   "cell_type": "code",
   "execution_count": 2,
   "metadata": {},
   "outputs": [],
   "source": [
    "# Open up raw data (deployment and retreival data already removed)\n",
    "adv1 = xr.open_dataset('ADV/adv1_dat.nc')\n",
    "adv2 = xr.open_dataset('ADV/adv2_dat.nc')"
   ]
  },
  {
   "cell_type": "code",
   "execution_count": 4,
   "metadata": {},
   "outputs": [
    {
     "name": "stdout",
     "output_type": "stream",
     "text": [
      "Filtering low SNR data\n",
      "Filtering low correlation data\n",
      "Interpolating gaps < 1s\n",
      "Sorting remaining gaps\n",
      "Patching gaps > 10s\n",
      "Averaging gaps between 1s and 10s\n",
      "Filling in front and back gaps < 1s\n",
      "Filtering low SNR data\n",
      "Filtering low correlation data\n",
      "Interpolating gaps < 1s\n",
      "Sorting remaining gaps\n",
      "Patching gaps > 10s\n",
      "Averaging gaps between 1s and 10s\n",
      "Filling in front and back gaps < 1s\n"
     ]
    }
   ],
   "source": [
    "snr_cutoff = 10 # 10 dB\n",
    "corr_cutoff = .3 + (.4*np.sqrt(32/64)) # ~ 58% correlation\n",
    "nmax = 38400 # Max number of samples in a single burst\n",
    "fs = 32 # Sample frequency of the dataset\n",
    "\n",
    "#e1_16hz = e_filter(adv1_16hz, SNR_cutoff, Corr_cutoff, , n_16, fs_16)\n",
    "e1_qc = vt.eps_data_prep(adv1, snr_cutoff, corr_cutoff, nmax, fs)\n",
    "e1_qc.to_netcdf('ADV/e1_qc.nc')\n",
    "\n",
    "#e2_16hz = e_filter(adv2_16hz, SNR_cutoff, Corr_cutoff, n_16, fs_16)\n",
    "e2_qc = vt.eps_data_prep(adv2, snr_cutoff, corr_cutoff, nmax, fs)\n",
    "e2_qc.to_netcdf('ADV/e2_qc.nc')"
   ]
  },
  {
   "cell_type": "markdown",
   "metadata": {},
   "source": [
    "### Spectral analysis\n",
    "- With bad data points that fail SNR and Correlation cutoffs properly removed and interpolated, the remaining data needs to be \"despiked\"\n",
    "- Velocity points that lie beyond an \"expanded\" Guassian threshold may be too large to be considered good data points\n",
    "    - This despiking method is based on methodology from Wheeler and Giddings (2023)"
   ]
  },
  {
   "cell_type": "code",
   "execution_count": 5,
   "metadata": {},
   "outputs": [],
   "source": [
    "# Import cleaned velocity data\n",
    "e1 = xr.open_dataset('ADV/e1_qc.nc')\n",
    "e2 = xr.open_dataset('ADV/e2_qc.nc')"
   ]
  },
  {
   "cell_type": "code",
   "execution_count": 6,
   "metadata": {},
   "outputs": [],
   "source": [
    "temp = xr.open_dataset('Temperature/temp_w_rho.nc')"
   ]
  },
  {
   "cell_type": "code",
   "execution_count": 81,
   "metadata": {},
   "outputs": [
    {
     "data": {
      "image/png": "[encoded data removed]",
      "text/plain": [
       "<Figure size 432x288 with 1 Axes>"
      ]
     },
     "metadata": {
      "needs_background": "light"
     },
     "output_type": "display_data"
    }
   ],
   "source": [
    "#burst_list = [76]\n",
    "#rho = np.mean(temp.Rho.sel(time=slice(burst.time[0], burst.time[-1])))+1000 # Density\n",
    "rho = np.mean(temp.Rho)+1000\n",
    "\n",
    "Sw76, Sw76_pars, Sw76_cov = vt.eval_Sww(e1, 76, rho=rho, Spp_conv = False, Plot = True)"
   ]
  },
  {
   "cell_type": "markdown",
   "metadata": {},
   "source": [
    "From Fedderson 2012\n",
    "\n",
    "e = [(Pww(f) * 2(2pi)^(3/2)) / (a * Mww(f;ubar,sigma^2))]^(3/2)\n",
    "\n",
    "- Pww(f) = vertical velocity times series from 70s long Hanning windowed data\n",
    "- a = 1.4 (Kolmogoroff's constant)\n",
    "- Mww = integral over 3D wavenumber space that transforms the inertial subrange k^-5/3 wavenumber dependence to a frequency average between 1.2 and 2 Hz\n",
    "\n",
    "over 56 discrete frequencies\n",
    "- ubar and sigma^2 = horizontal mean current and (wave dominated) three-component velocity variance"
   ]
  },
  {
   "cell_type": "code",
   "execution_count": 8,
   "metadata": {},
   "outputs": [],
   "source": [
    "alpha = 1.4\n",
    "Pww = Sw"
   ]
  },
  {
   "cell_type": "markdown",
   "metadata": {},
   "source": [
    "### 3D Wavenumber space"
   ]
  },
  {
   "cell_type": "code",
   "execution_count": 135,
   "metadata": {},
   "outputs": [],
   "source": [
    "def find_princaxs(ds,u,v):\n",
    "    # THE FOLLOWING CODE IS ADAPTED FROM STEVEN CUNNINGHAM'S MASTERS THESIS (2019)\n",
    "\n",
    "    # Rotate velocity data along the principle axes U and V\n",
    "    theta, major, minor = ts.princax(u, v) # theta = angle, major = SD major axis (U), SD minor axis (V)\n",
    "    U, V = ts.rot(u, v, -theta)\n",
    "    ds['U'] = U\n",
    "    ds['V'] = V\n",
    "    \n",
    "    return ds\n",
    "\n",
    "e1 = find_princaxs(e1, e1.East, e1.North)"
   ]
  },
  {
   "cell_type": "code",
   "execution_count": 139,
   "metadata": {},
   "outputs": [],
   "source": [
    "# Find J_lm using method from Gerbi et al. (2009)\n",
    "\n",
    "# Select single \"good\" data burst\n",
    "burst = e1.where(e1.Burst_number.isin(76), drop = True)\n",
    "ds = burst.copy(deep=True) # Make a copy to not alter the original dataset\n",
    "\n",
    "# Calculate mean current, standard deviation, and variance of velocity components\n",
    "ubar = float(np.mean(ds.U))\n",
    "vbar = float(np.mean(ds.V))\n",
    "wbar = float(np.mean(ds.Vertical))\n",
    "    \n",
    "usig = float(np.std(ds.U)) # Standard deviation \n",
    "vsig = float(np.std(ds.V))\n",
    "wsig = float(np.std(ds.Vertical))\n",
    "\n",
    "uvar = float(np.std(ds.U)**2) # Variance\n",
    "vvar = float(np.std(ds.V)**2)\n",
    "wvar = float(np.std(ds.Vertical)**2)\n",
    "\n",
    "# Create all values of theta, phi, and R within boundaries a to b\n",
    "R = np.linspace(0, 6, 1000)\n",
    "phi = np.linspace(0, 2*np.pi, 1000)\n",
    "theta = np.linspace(0, np.pi, 1000)\n",
    "\n",
    "fPhi_11 = np.empty((1000,1000))# Generate empty array for values of fPhi (dims = [Theta, Phi])\n",
    "fPhi_22 = np.empty((1000,1000))\n",
    "fPhi_33 = np.empty((1000,1000))\n",
    "\n",
    "fTheta_11 = np.empty_like(theta) # Empty array to populate with values of fTheta (just 1d to be filled with integral of fPhi)\n",
    "fTheta_22 = np.empty_like(theta)\n",
    "fTheta_33 = np.empty_like(theta)\n",
    "\n",
    "# R0, G, and P_lm are all functions of theta and phi, and can be pre-generated as 2d arrays before the nested loop\n",
    "R0 = np.empty((1000,1000))\n",
    "G = np.empty((1000,1000))\n",
    "P_11 = np.empty((1000,1000))\n",
    "P_22 = np.empty((1000,1000))\n",
    "P_33 = np.empty((1000,1000))\n",
    "\n",
    "for i in enumerate(theta): # Iterates through theta values (the rows of the empty 2d arrays)\n",
    "    \n",
    "    # Each row of the array is filled with the corresponding variable at all values of phi\n",
    "    R0[i[0]] = ((ubar/usig) * (np.sin(i[1])*np.cos(phi))) + ((vbar/vsig) * (np.sin(i[1])*np.sin(phi)))\n",
    "    G[i[0]] = np.sqrt((np.sin(i[1])**2)*(((np.cos(phi)**2)/uvar)+((np.sin(phi)**2)/vvar))+((np.cos(i[1])**2)/wvar))\n",
    "    \n",
    "    P_11[i[0]] = (1/(G[i[0]]**2))*((((np.sin(i[1])**2)*(np.sin(phi)**2))/vvar)+((np.cos(i[1])**2)/wvar))\n",
    "    \n",
    "    P_22[i[0]] = (1/(G[i[0]]**2))*((((np.sin(i[1])**2)*(np.cos(phi)**2))/uvar)+((np.cos(i[1])**2)/wvar))\n",
    "    \n",
    "    P_33[i[0]] = ((np.sin(i[1])**2)/(G[i[0]]**2))*(((np.cos(phi)**2)/uvar)+((np.sin(phi)**2)/vvar))\n",
    "    \n",
    "    # Loop resets and goes through all functions with theta[i+1]\n",
    "    \n",
    "# TRIPLE INTEGRAL LOOP\n",
    "\n",
    "for i in enumerate(theta): # Iterates through theta values only after finding fR[a:b] and fPhi[a:b]\n",
    "    \n",
    "    for j in enumerate(phi): # Iterates through each value of phi\n",
    "        \n",
    "        # Calculate fR from a to b using pre-generated R0 values\n",
    "        fR = (R**(2/3))*np.exp(-(((R0[i[0],j[0]]-R)**2)/2))\n",
    "        \n",
    "        # Populate empty fPhi array at the given space (theta[i], phi[i])\n",
    "        fPhi_11[i[0],j[0]] = ((G[i[0],j[0]]**(-11/3))*np.sin(i[1])*P_11[i[0],j[0]] * np.trapz(fR, R)) # fPhi uses the integral of fR\n",
    "        fPhi_22[i[0],j[0]] = ((G[i[0],j[0]]**(-11/3))*np.sin(i[1])*P_22[i[0],j[0]] * np.trapz(fR, R))\n",
    "        fPhi_33[i[0],j[0]] = ((G[i[0],j[0]]**(-11/3))*np.sin(i[1])*P_33[i[0],j[0]] * np.trapz(fR, R))\n",
    "        \n",
    "        # Nested loop resets and goes through all functions with phi[i+1], but theta remains constant\n",
    "    \n",
    "    # Populate empty fTheta array with the integral of phi from phi[0] to phi[-1]\n",
    "    fTheta_11[i[0]] = np.trapz(fPhi_11[i[0]], phi)\n",
    "    fTheta_22[i[0]] = np.trapz(fPhi_22[i[0]], phi)\n",
    "    fTheta_33[i[0]] = np.trapz(fPhi_33[i[0]], phi)\n",
    "    \n",
    "    # Loop resets and goes through all functions with theta[i+1]\n",
    "\n",
    "# Evaluate the final integral of fTheta and use it to find J_lm    \n",
    "J_11 = (1/(2*((2*np.pi)**(3/2))))*(1/(usig*vsig*wsig)) * np.trapz(fTheta_11, theta)\n",
    "J_22 = (1/(2*((2*np.pi)**(3/2))))*(1/(usig*vsig*wsig)) * np.trapz(fTheta_22, theta)\n",
    "J_33 = (1/(2*((2*np.pi)**(3/2))))*(1/(usig*vsig*wsig)) * np.trapz(fTheta_33, theta)"
   ]
  },
  {
   "cell_type": "code",
   "execution_count": 149,
   "metadata": {},
   "outputs": [
    {
     "name": "stdout",
     "output_type": "stream",
     "text": [
      "M_ll = 2.095789699757904 J_ll = 2.3072651280016756\n"
     ]
    }
   ],
   "source": [
    "# Check if numerical solution of J_ll resembles analytical solution of M_ll\n",
    "from scipy.special import gamma\n",
    "gam = gamma(5/6)\n",
    "sig0 = (usig + vsig + wsig)/3\n",
    "M_ll = (sig0**(2/3))*gam*(2**(17/6))*np.pi\n",
    "\n",
    "J_ll = (J_11+J_22+J_33)*(2*((2*np.pi)**(3/2)))\n",
    "\n",
    "print('M_ll = ' + str(M_ll) + ' J_ll = ' + str(J_ll))"
   ]
  },
  {
   "cell_type": "code",
   "execution_count": 192,
   "metadata": {},
   "outputs": [
    {
     "data": {
      "text/plain": [
       "0.02387818132827331"
      ]
     },
     "execution_count": 192,
     "metadata": {},
     "output_type": "execute_result"
    }
   ],
   "source": [
    "sig0"
   ]
  },
  {
   "cell_type": "code",
   "execution_count": 181,
   "metadata": {},
   "outputs": [],
   "source": [
    "# Check value of M_ll using Fedderson et al. (2007)\n",
    "# Equation A8 uses I(usig/vbar, pi/2)\n",
    "# The fuction I itself is a single integral from inf to -inf, which can be evaluated using scipy.quad\n",
    "I_x = usig/vbar\n",
    "I_y = np.pi/2\n",
    "\n",
    "def I_int(x):\n",
    "    return (((x**2) - ((2/I_x)*np.cos(I_y)*x) + (1/I_x)**2)**(1/3)) * np.exp(-.5*(x**2))\n",
    "\n",
    "from scipy import integrate\n",
    "I, I_err = integrate.quad(I_int, -np.inf, np.inf)\n",
    "I = I*(1/(2*np.pi))*((I_x**2)**(1/3))"
   ]
  },
  {
   "cell_type": "code",
   "execution_count": 182,
   "metadata": {},
   "outputs": [
    {
     "data": {
      "text/plain": [
       "1.2811906460219848"
      ]
     },
     "execution_count": 182,
     "metadata": {},
     "output_type": "execute_result"
    }
   ],
   "source": [
    "I"
   ]
  },
  {
   "cell_type": "code",
   "execution_count": 186,
   "metadata": {},
   "outputs": [
    {
     "data": {
      "text/plain": [
       "0.2946209660371243"
      ]
     },
     "execution_count": 186,
     "metadata": {},
     "output_type": "execute_result"
    }
   ],
   "source": [
    "M_33 = (12/55)*(2*((2*(np.pi))**(3/2)))*((vbar**2)**(1/3))*I\n",
    "M_33"
   ]
  },
  {
   "cell_type": "code",
   "execution_count": 191,
   "metadata": {},
   "outputs": [
    {
     "data": {
      "text/plain": [
       "0.8335930140187576"
      ]
     },
     "execution_count": 191,
     "metadata": {},
     "output_type": "execute_result"
    }
   ],
   "source": []
  },
  {
   "cell_type": "code",
   "execution_count": 177,
   "metadata": {},
   "outputs": [
    {
     "data": {
      "text/plain": [
       "3.8789330763481913"
      ]
     },
     "execution_count": 177,
     "metadata": {},
     "output_type": "execute_result"
    }
   ],
   "source": [
    "test**(1/3)"
   ]
  },
  {
   "cell_type": "code",
   "execution_count": null,
   "metadata": {},
   "outputs": [],
   "source": []
  },
  {
   "cell_type": "code",
   "execution_count": null,
   "metadata": {},
   "outputs": [],
   "source": []
  },
  {
   "cell_type": "code",
   "execution_count": null,
   "metadata": {},
   "outputs": [],
   "source": []
  }
 ],
 "metadata": {
  "kernelspec": {
   "display_name": "Python 3",
   "language": "python",
   "name": "python3"
  },
  "language_info": {
   "codemirror_mode": {
    "name": "ipython",
    "version": 3
   },
   "file_extension": ".py",
   "mimetype": "text/x-python",
   "name": "python",
   "nbconvert_exporter": "python",
   "pygments_lexer": "ipython3",
   "version": "3.8.5"
  }
 },
 "nbformat": 4,
 "nbformat_minor": 4
}
