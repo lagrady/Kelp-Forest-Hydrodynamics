{
 "cells": [
  {
   "cell_type": "code",
   "execution_count": 2,
   "id": "755eaba1-264f-402c-8141-e68430f3fe10",
   "metadata": {},
   "outputs": [],
   "source": [
    "import numpy as np\n",
    "from scipy import integrate\n",
    "import xarray as xr\n",
    "from scipy.integrate import quad_vec"
   ]
  },
  {
   "cell_type": "code",
   "execution_count": 4,
   "id": "c120ff60-425c-4abf-ae2b-4c2b51ed2fb7",
   "metadata": {},
   "outputs": [],
   "source": [
    "# Create dimensions\n",
    "R = np.linspace(0,7,1000)\n",
    "Phi = np.linspace(0,(2*np.pi),1000)\n",
    "Theta = np.linspace(0,np.pi,1000)"
   ]
  },
  {
   "cell_type": "code",
   "execution_count": 25,
   "id": "aa3c333f-da7f-4c6b-8c98-59ea6f07b851",
   "metadata": {},
   "outputs": [],
   "source": [
    "# Assumptions include no current\n",
    "ubar = 0\n",
    "vbar = .1\n",
    "wbar = 0\n",
    "\n",
    "# Standard deviations u = v = w = sig0\n",
    "usig = .05 \n",
    "vsig = .05 \n",
    "wsig = .05 \n",
    "sig0 = .05\n",
    "\n",
    "uvar = usig**2\n",
    "vvar = vsig**2\n",
    "wvar = wsig**2"
   ]
  },
  {
   "cell_type": "code",
   "execution_count": 32,
   "id": "51f52568-17c0-4ccb-a958-c258a80221c2",
   "metadata": {},
   "outputs": [],
   "source": [
    "phi = np.tile(Phi,(1000,1))\n",
    "theta = Theta.reshape((1000, 1))"
   ]
  },
  {
   "cell_type": "code",
   "execution_count": 33,
   "id": "c18c867b-3cb1-4f9a-90ac-cd0f25bb06bd",
   "metadata": {},
   "outputs": [
    {
     "data": {
      "text/plain": [
       "array([[ 0.00000000e+00,  0.00000000e+00,  0.00000000e+00, ...,\n",
       "         0.00000000e+00,  0.00000000e+00,  0.00000000e+00],\n",
       "       [ 0.00000000e+00,  3.95571670e-05,  7.91127693e-05, ...,\n",
       "        -7.91127693e-05, -3.95571670e-05, -1.54047449e-18],\n",
       "       [ 0.00000000e+00,  7.91139429e-05,  1.58224756e-04, ...,\n",
       "        -1.58224756e-04, -7.91139429e-05, -3.08093375e-18],\n",
       "       ...,\n",
       "       [ 0.00000000e+00,  7.91139429e-05,  1.58224756e-04, ...,\n",
       "        -1.58224756e-04, -7.91139429e-05, -3.08093375e-18],\n",
       "       [ 0.00000000e+00,  3.95571670e-05,  7.91127693e-05, ...,\n",
       "        -7.91127693e-05, -3.95571670e-05, -1.54047449e-18],\n",
       "       [ 0.00000000e+00,  1.54046688e-18,  3.08087281e-18, ...,\n",
       "        -3.08087281e-18, -1.54046688e-18, -5.99903913e-32]])"
      ]
     },
     "execution_count": 33,
     "metadata": {},
     "output_type": "execute_result"
    }
   ],
   "source": [
    "R0 = ((ubar/usig) * (np.sin(theta)*np.cos(phi))) + ((vbar/vsig) * (np.sin(theta)*np.sin(phi)))\n",
    "R0"
   ]
  },
  {
   "cell_type": "code",
   "execution_count": 36,
   "id": "243dfd15-9a95-4ca6-b009-9dce615cdf54",
   "metadata": {},
   "outputs": [
    {
     "data": {
      "text/plain": [
       "(array([[1.00563492, 1.00563492, 1.00563492, ..., 1.00563492, 1.00563492,\n",
       "         1.00563492],\n",
       "        [1.00563492, 1.00567942, 1.00572393, ..., 1.00554591, 1.00559041,\n",
       "         1.00563492],\n",
       "        [1.00563492, 1.00572393, 1.00581294, ..., 1.00545691, 1.00554591,\n",
       "         1.00563492],\n",
       "        ...,\n",
       "        [1.00563492, 1.00572393, 1.00581294, ..., 1.00545691, 1.00554591,\n",
       "         1.00563492],\n",
       "        [1.00563492, 1.00567942, 1.00572393, ..., 1.00554591, 1.00559041,\n",
       "         1.00563492],\n",
       "        [1.00563492, 1.00563492, 1.00563492, ..., 1.00563492, 1.00563492,\n",
       "         1.00563492]]),\n",
       " 1.900272081891152e-06)"
      ]
     },
     "execution_count": 36,
     "metadata": {},
     "output_type": "execute_result"
    }
   ],
   "source": [
    "fR = lambda R: (R**(2/3))*np.exp(-((R0-R)**2)/2)\n",
    "fR_int = quad_vec(fR, 0, np.inf)[0]\n",
    "fR_int"
   ]
  },
  {
   "cell_type": "code",
   "execution_count": null,
   "id": "a0d9997b-ffb7-436c-af9f-4a9f78e60a64",
   "metadata": {},
   "outputs": [],
   "source": [
    "G[i[0]] = np.sqrt((np.sin(i[1])**2) * (((np.cos(phi)/usig)**2) + ((np.sin(phi)/vsig)**2)) + ((np.cos(i[1])/wsig)**2))\n",
    "    \n",
    "P_11[i[0]] = (1/(G[i[0]]**2))*((((np.sin(i[1])**2)*(np.sin(phi)**2))/vvar)+((np.cos(i[1])**2)/wvar))\n",
    "P_22[i[0]] = (1/(G[i[0]]**2))*((((np.sin(i[1])**2)*(np.cos(phi)**2))/uvar)+((np.cos(i[1])**2)/wvar))\n",
    "P_33[i[0]] = ((np.sin(i[1])/G[i[0]])**2) * (((np.cos(phi)/usig)**2) + ((np.sin(phi)/vsig)**2))"
   ]
  },
  {
   "cell_type": "code",
   "execution_count": null,
   "id": "ea9c3ade-76a7-42b5-9436-977d15cbe60f",
   "metadata": {},
   "outputs": [],
   "source": [
    "burst_list = np.unique(e2.Burst_number)\n",
    "J_arr = np.empty((len(burst_list),3))\n",
    "\n",
    "for b in enumerate(burst_list):\n",
    "    burst = e2.where(e2.Burst_number.isin(b[1]), drop = True)\n",
    "    \n",
    "    #Magnitude of current\n",
    "    ubar = np.mean(np.sqrt(burst.U.values**2))\n",
    "    vbar = np.mean(np.sqrt(burst.V.values**2))\n",
    "    wbar = np.mean(np.sqrt(burst.Vertical.values**2))\n",
    "\n",
    "    #Standard deviations\n",
    "    usig = np.std(burst.U.values)\n",
    "    vsig = np.std(burst.V.values) \n",
    "    wsig = np.std(burst.Vertical.values) \n",
    "    \n",
    "    #Variance\n",
    "    uvar = usig**2\n",
    "    vvar = vsig**2\n",
    "    wvar = wsig**2\n",
    "\n",
    "    # Find J_lm using method from Gerbi et al. (2009)\n",
    "    # Create all values of theta, phi, and R within boundaries a to b\n",
    "    R = np.linspace(0, 7, 1000)\n",
    "    phi = np.linspace(0, 2*np.pi, 1000)\n",
    "    theta = np.linspace(0, np.pi, 1000)\n",
    "\n",
    "    fPhi_11 = np.empty((1000,1000))# Generate empty array for values of fPhi (dims = [Theta, Phi])\n",
    "    fPhi_22 = np.empty((1000,1000))\n",
    "    fPhi_33 = np.empty((1000,1000))\n",
    "\n",
    "    fTheta_11 = np.empty_like(theta) # Empty array to populate with values of fTheta (just 1d to be filled with integral of fPhi)\n",
    "    fTheta_22 = np.empty_like(theta)\n",
    "    fTheta_33 = np.empty_like(theta)\n",
    "\n",
    "    # R0, G, and P_lm are all functions of theta and phi, and can be pre-generated as 2d arrays before the nested loop\n",
    "    R0 = np.empty((1000,1000))\n",
    "    G = np.empty((1000,1000))\n",
    "    P_11 = np.empty((1000,1000))\n",
    "    P_22 = np.empty((1000,1000))\n",
    "    P_33 = np.empty((1000,1000))\n",
    "\n",
    "    for i in enumerate(theta): # Iterates through theta values (the rows of the empty 2d arrays)\n",
    "    \n",
    "        # Each row of the array is filled with the corresponding variable at all values of phi\n",
    "        R0[i[0]] = ((ubar/usig) * (np.sin(i[1])*np.cos(phi))) + ((vbar/vsig) * (np.sin(i[1])*np.sin(phi)))\n",
    "    \n",
    "        G[i[0]] = np.sqrt((np.sin(i[1])**2) * (((np.cos(phi)/usig)**2) + ((np.sin(phi)/vsig)**2)) + ((np.cos(i[1])/wsig)**2))\n",
    "    \n",
    "        P_11[i[0]] = (1/(G[i[0]]**2))*((((np.sin(i[1])**2)*(np.sin(phi)**2))/vvar)+((np.cos(i[1])**2)/wvar))\n",
    "        P_22[i[0]] = (1/(G[i[0]]**2))*((((np.sin(i[1])**2)*(np.cos(phi)**2))/uvar)+((np.cos(i[1])**2)/wvar))\n",
    "        P_33[i[0]] = ((np.sin(i[1])/G[i[0]])**2) * (((np.cos(phi)/usig)**2) + ((np.sin(phi)/vsig)**2))\n",
    "    \n",
    "        # Loop resets and goes through all functions with theta[i+1]\n",
    "    \n",
    "    # TRIPLE INTEGRAL LOOP\n",
    "    for i in enumerate(theta): # Iterates through theta values only after finding fR[a:b] and fPhi[a:b]\n",
    "    \n",
    "        for j in enumerate(phi): # Iterates through each value of phi\n",
    "        \n",
    "            # Calculate fR from a to b using pre-generated R0 values\n",
    "            fR = (R**(2/3))*np.exp(-(((R0[i[0],j[0]]-R)**2)/2))\n",
    "        \n",
    "            # Populate empty fPhi array at the given space (theta[i], phi[i])\n",
    "            fPhi_11[i[0],j[0]] = ((G[i[0],j[0]]**(-11/3))*np.sin(i[1])*P_11[i[0],j[0]] * np.trapz(fR, R)) # fPhi uses the integral of fR\n",
    "            fPhi_22[i[0],j[0]] = ((G[i[0],j[0]]**(-11/3))*np.sin(i[1])*P_22[i[0],j[0]] * np.trapz(fR, R))\n",
    "            fPhi_33[i[0],j[0]] = ((G[i[0],j[0]]**(-11/3))*np.sin(i[1])*P_33[i[0],j[0]] * np.trapz(fR, R))\n",
    "        \n",
    "            # Nested loop resets and goes through all functions with phi[i+1], but theta remains constant\n",
    "        # Populate empty fTheta array with the integral of phi from phi[0] to phi[-1]\n",
    "        fTheta_11[i[0]] = np.trapz(fPhi_11[i[0]], phi)\n",
    "        fTheta_22[i[0]] = np.trapz(fPhi_22[i[0]], phi)\n",
    "        fTheta_33[i[0]] = np.trapz(fPhi_33[i[0]], phi)\n",
    "        if i[0] % 1000 == 0: # Progress check every 10000 rows\n",
    "            print(b[1])\n",
    "        # Loop resets and goes through all functions with theta[i+1]\n",
    "\n",
    "    # Evaluate the final integral of fTheta and use it to find J_lm    \n",
    "    J_11 = (1/(2*((2*np.pi)**(3/2))))*(1/(usig*vsig*wsig)) * np.trapz(fTheta_11, theta)\n",
    "    J_22 = (1/(2*((2*np.pi)**(3/2))))*(1/(usig*vsig*wsig)) * np.trapz(fTheta_22, theta)\n",
    "    J_33 = (1/(2*((2*np.pi)**(3/2))))*(1/(usig*vsig*wsig)) * np.trapz(fTheta_33, theta)\n",
    "\n",
    "    J_arr[b[0]]=[J_11,J_22,J_33]"
   ]
  },
  {
   "cell_type": "code",
   "execution_count": null,
   "id": "7785acf6-e85e-4aa9-8a5c-68e36721e2c0",
   "metadata": {},
   "outputs": [],
   "source": [
    "J_df_2 = pd.DataFrame(J_arr, index = burst_list, columns=['J_11', 'J_22', 'J_33'])\n",
    "J_df_2.to_csv('data/J_ll_2.csv')"
   ]
  }
 ],
 "metadata": {
  "kernelspec": {
   "display_name": "Python 3 (ipykernel)",
   "language": "python",
   "name": "python3"
  },
  "language_info": {
   "codemirror_mode": {
    "name": "ipython",
    "version": 3
   },
   "file_extension": ".py",
   "mimetype": "text/x-python",
   "name": "python",
   "nbconvert_exporter": "python",
   "pygments_lexer": "ipython3",
   "version": "3.10.9"
  }
 },
 "nbformat": 4,
 "nbformat_minor": 5
}
