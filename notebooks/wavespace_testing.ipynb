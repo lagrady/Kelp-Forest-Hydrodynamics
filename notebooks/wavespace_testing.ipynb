{
 "cells": [
  {
   "cell_type": "code",
   "execution_count": 2,
   "id": "755eaba1-264f-402c-8141-e68430f3fe10",
   "metadata": {},
   "outputs": [],
   "source": [
    "import numpy as np\n",
    "from scipy import integrate\n",
    "import xarray as xr\n",
    "from scipy.integrate import quad_vec"
   ]
  },
  {
   "cell_type": "code",
   "execution_count": 4,
   "id": "c120ff60-425c-4abf-ae2b-4c2b51ed2fb7",
   "metadata": {},
   "outputs": [],
   "source": [
    "# Create dimensions\n",
    "R = np.linspace(0,7,1000)\n",
    "Phi = np.linspace(0,(2*np.pi),1000)\n",
    "Theta = np.linspace(0,np.pi,1000)"
   ]
  },
  {
   "cell_type": "code",
   "execution_count": 25,
   "id": "aa3c333f-da7f-4c6b-8c98-59ea6f07b851",
   "metadata": {},
   "outputs": [],
   "source": [
    "# Assumptions include no current\n",
    "ubar = 0\n",
    "vbar = .1\n",
    "wbar = 0\n",
    "\n",
    "# Standard deviations u = v = w = sig0\n",
    "usig = .05 \n",
    "vsig = .05 \n",
    "wsig = .05 \n",
    "sig0 = .05\n",
    "\n",
    "uvar = usig**2\n",
    "vvar = vsig**2\n",
    "wvar = wsig**2"
   ]
  },
  {
   "cell_type": "code",
   "execution_count": 32,
   "id": "51f52568-17c0-4ccb-a958-c258a80221c2",
   "metadata": {},
   "outputs": [],
   "source": [
    "phi = np.tile(Phi,(1000,1))\n",
    "theta = Theta.reshape((1000, 1))"
   ]
  },
  {
   "cell_type": "code",
   "execution_count": 33,
   "id": "c18c867b-3cb1-4f9a-90ac-cd0f25bb06bd",
   "metadata": {},
   "outputs": [
    {
     "data": {
      "text/plain": [
       "array([[ 0.00000000e+00,  0.00000000e+00,  0.00000000e+00, ...,\n",
       "         0.00000000e+00,  0.00000000e+00,  0.00000000e+00],\n",
       "       [ 0.00000000e+00,  3.95571670e-05,  7.91127693e-05, ...,\n",
       "        -7.91127693e-05, -3.95571670e-05, -1.54047449e-18],\n",
       "       [ 0.00000000e+00,  7.91139429e-05,  1.58224756e-04, ...,\n",
       "        -1.58224756e-04, -7.91139429e-05, -3.08093375e-18],\n",
       "       ...,\n",
       "       [ 0.00000000e+00,  7.91139429e-05,  1.58224756e-04, ...,\n",
       "        -1.58224756e-04, -7.91139429e-05, -3.08093375e-18],\n",
       "       [ 0.00000000e+00,  3.95571670e-05,  7.91127693e-05, ...,\n",
       "        -7.91127693e-05, -3.95571670e-05, -1.54047449e-18],\n",
       "       [ 0.00000000e+00,  1.54046688e-18,  3.08087281e-18, ...,\n",
       "        -3.08087281e-18, -1.54046688e-18, -5.99903913e-32]])"
      ]
     },
     "execution_count": 33,
     "metadata": {},
     "output_type": "execute_result"
    }
   ],
   "source": [
    "R0 = ((ubar/usig) * (np.sin(theta)*np.cos(phi))) + ((vbar/vsig) * (np.sin(theta)*np.sin(phi)))\n",
    "R0"
   ]
  },
  {
   "cell_type": "code",
   "execution_count": 36,
   "id": "243dfd15-9a95-4ca6-b009-9dce615cdf54",
   "metadata": {},
   "outputs": [
    {
     "data": {
      "text/plain": [
       "(array([[1.00563492, 1.00563492, 1.00563492, ..., 1.00563492, 1.00563492,\n",
       "         1.00563492],\n",
       "        [1.00563492, 1.00567942, 1.00572393, ..., 1.00554591, 1.00559041,\n",
       "         1.00563492],\n",
       "        [1.00563492, 1.00572393, 1.00581294, ..., 1.00545691, 1.00554591,\n",
       "         1.00563492],\n",
       "        ...,\n",
       "        [1.00563492, 1.00572393, 1.00581294, ..., 1.00545691, 1.00554591,\n",
       "         1.00563492],\n",
       "        [1.00563492, 1.00567942, 1.00572393, ..., 1.00554591, 1.00559041,\n",
       "         1.00563492],\n",
       "        [1.00563492, 1.00563492, 1.00563492, ..., 1.00563492, 1.00563492,\n",
       "         1.00563492]]),\n",
       " 1.900272081891152e-06)"
      ]
     },
     "execution_count": 36,
     "metadata": {},
     "output_type": "execute_result"
    }
   ],
   "source": [
    "fR = lambda R: (R**(2/3))*np.exp(-((R0-R)**2)/2)\n",
    "fR_int = quad_vec(fR, 0, np.inf)[0]\n",
    "fR_int"
   ]
  },
  {
   "cell_type": "code",
   "execution_count": null,
   "id": "a0d9997b-ffb7-436c-af9f-4a9f78e60a64",
   "metadata": {},
   "outputs": [],
   "source": [
    "G[i[0]] = np.sqrt((np.sin(i[1])**2) * (((np.cos(phi)/usig)**2) + ((np.sin(phi)/vsig)**2)) + ((np.cos(i[1])/wsig)**2))\n",
    "    \n",
    "P_11[i[0]] = (1/(G[i[0]]**2))*((((np.sin(i[1])**2)*(np.sin(phi)**2))/vvar)+((np.cos(i[1])**2)/wvar))\n",
    "P_22[i[0]] = (1/(G[i[0]]**2))*((((np.sin(i[1])**2)*(np.cos(phi)**2))/uvar)+((np.cos(i[1])**2)/wvar))\n",
    "P_33[i[0]] = ((np.sin(i[1])/G[i[0]])**2) * (((np.cos(phi)/usig)**2) + ((np.sin(phi)/vsig)**2))"
   ]
  }
 ],
 "metadata": {
  "kernelspec": {
   "display_name": "Python 3 (ipykernel)",
   "language": "python",
   "name": "python3"
  },
  "language_info": {
   "codemirror_mode": {
    "name": "ipython",
    "version": 3
   },
   "file_extension": ".py",
   "mimetype": "text/x-python",
   "name": "python",
   "nbconvert_exporter": "python",
   "pygments_lexer": "ipython3",
   "version": "3.10.9"
  }
 },
 "nbformat": 4,
 "nbformat_minor": 5
}
