{
 "cells": [
  {
   "cell_type": "code",
   "execution_count": null,
   "metadata": {},
   "outputs": [],
   "source": [
    "import pandas as pd\n",
    "import numpy as np\n",
    "import matplotlib.pyplot as plt\n",
    "import matplotlib.colors\n",
    "import xarray as xr\n",
    "import gsw # https://teos-10.github.io/GSW-Python/gsw_flat.html"
   ]
  },
  {
   "cell_type": "code",
   "execution_count": null,
   "metadata": {},
   "outputs": [],
   "source": [
    "# Average out data to 1, 5, and 10 minutes intervals\n",
    "\n",
    "# ADCP data (first deployment)\n",
    "#adcp1_5m = adcp1.resample(time='5Min').mean()\n",
    "#adcp1_10m = adcp1.resample(time='10Min').mean()\n",
    "#adcp1_10mroll = adcp1.isel(BinDist=1).rolling(time=10).mean() # Conduct a 10 minute rolling time to see how it compares\n",
    "\n",
    "\n",
    "# ADCP data (second deployment)\n",
    "#adcp2_1m = adcp2.resample(time='1Min').mean()\n",
    "#adcp2_5m = adcp2.resample(time='5Min').mean()\n",
    "#adcp2_10m = adcp2.resample(time='10Min').mean()\n",
    "#adcp2_1mroll = adcp2.isel(BinDist=1).rolling(time=60).mean() # Conduct a 10 minute rolling time to see how it compares\n",
    "#adcp2_10mroll = adcp2.isel(BinDist=1).rolling(time=600).mean() # Conduct a 10 minute rolling time to see how it compares\n",
    "#=========================================================================================================================\n",
    "\n",
    "print('ADV (first deployment)')\n",
    "#adv1_1s = adv1.resample(time='1S').mean()\n",
    "#adv1_1m = adv1.resample(time='1Min').mean()\n",
    "#adv1_5m = adv1.resample(time='5Min').mean()\n",
    "#adv1_10m = adv1.resample(time='10Min').mean()\n",
    "#adv1_1mroll = adv1.rolling(time=1).mean()\n",
    "#adv1_10mroll = adv1.rolling(time=10).mean()\n",
    "\n",
    "print('ADV (second deployment)')\n",
    "#adv2_1s = adv2.resample(time='1S').mean()\n",
    "#adv2_1m = adv2.resample(time='1Min').mean()\n",
    "#adv2_5m = adv2.resample(time='5Min').mean()\n",
    "#adv2_10m = adv2.resample(time='10Min').mean()\n",
    "#adv2_1mroll = adv2.rolling(time=1).mean()\n",
    "#adv2_10mroll = adv2.rolling(time=10).mean()\n",
    "\n",
    "#=========================================================================================================================\n",
    "print('temperature')\n",
    "#temp_5m = temp.resample(time='5min').mean()\n",
    "#temp_10m = temp.resample(time='10min').mean()\n",
    "#temp_10mroll = temp.rolling(time=10).mean()"
   ]
  },
  {
   "cell_type": "code",
   "execution_count": null,
   "metadata": {},
   "outputs": [],
   "source": [
    "# Filter unwanted data\n",
    "# For adcp\n",
    "adcp1 = adcp1.where((adcp1.Flag < 4) & (adcp1.Depth > 8))\n",
    "adcp2 = adcp2.where((adcp2.Flag < 4) & (adcp2.Depth > 8))\n",
    "\n",
    "# For adv\n",
    "adv1 = adv1.where(adv1.Dat_flag < 5)\n",
    "adv2 = adv2.where(adv2.Dat_flag < 5)\n",
    "\n",
    "# For seaphox\n",
    "spxqc = spx.where(spx.QC < 2)"
   ]
  },
  {
   "cell_type": "code",
   "execution_count": null,
   "metadata": {},
   "outputs": [],
   "source": [
    "# ADCP data\n",
    "adcp1 = xr.open_dataset('ADCP/adcp1.nc')\n",
    "adcp1_5m = xr.open_dataset('ADCP/adcp1_5m.nc')\n",
    "adcp1_10m = xr.open_dataset('ADCP/adcp1_10m.nc')\n",
    "adcp1_10mroll = xr.open_dataset('ADCP/adcp1_10mroll.nc')\n",
    "\n",
    "adcp2 = xr.open_dataset('ADCP/adcp2.nc')\n",
    "adcp2_1m = xr.open_dataset('ADCP/adcp2_1m.nc')\n",
    "adcp2_5m = xr.open_dataset('ADCP/adcp2_5m.nc')\n",
    "adcp2_10m = xr.open_dataset('ADCP/adcp2_10m.nc')\n",
    "adcp2_1mroll = xr.open_dataset('ADCP/adcp2_1mroll.nc')\n",
    "adcp2_10mroll = xr.open_dataset('ADCP/adcp2_10mroll.nc')\n",
    "\n",
    "# ADV data\n",
    "adv1 = xr.open_dataset('ADV/adv1_dat.nc')\n",
    "adv1sen = xr.open_dataset('ADV/adv1_sen.nc')\n",
    "adv1_1m = xr.open_dataset('ADV/adv1_1m.nc')\n",
    "adv1_5m = xr.open_dataset('ADV/adv1_5m.nc')\n",
    "adv1_10m = xr.open_dataset('ADV/adv1_10m.nc')\n",
    "\n",
    "adv2 = xr.open_dataset('ADV/adv2_dat.nc')\n",
    "adv2sen = xr.open_dataset('ADV/adv2_sen.nc')\n",
    "adv2_1m = xr.open_dataset('ADV/adv2_1m.nc')\n",
    "adv2_5m = xr.open_dataset('ADV/adv2_5m.nc')\n",
    "adv2_10m = xr.open_dataset('ADV/adv2_10m.nc')\n",
    "\n",
    "# Temperature data\n",
    "temp = xr.open_dataset('Temperature/temp_qc.nc')\n",
    "temp_5m = xr.open_dataset('Temperature/temp_5m')\n",
    "temp_10m = xr.open_dataset('Temperature/temp_5m')\n",
    "temp_10mroll = xr.open_dataset('Temperature/temp_5m')\n",
    "\n",
    "# SeaPHOX data\n",
    "spx = xr.open_dataset('SeaPHOX/seaphox.nc')\n",
    "\n",
    "# M1 data\n",
    "m1_ns = xr.open_dataset('M1/m1_ns.nc')\n",
    "m1_ew = xr.open_dataset('M1/m1_ew.nc')\n",
    "m1_temp = xr.open_dataset('M1/m1_temp.nc')\n",
    "m1_wind = xr.open_dataset('M1/m1_wind.nc')\n",
    "\n",
    "# NBDC 46042 data\n",
    "nbdc_july = xr.open_dataset('46042_Buoy/nbdc_july.nc')\n",
    "nbdc_aug = xr.open_dataset('46042_Buoy/nbdc_aug.nc')\n",
    "nbdc_sept = xr.open_dataset('46042_Buoy/nbdc_sept.nc')"
   ]
  },
  {
   "cell_type": "code",
   "execution_count": null,
   "metadata": {},
   "outputs": [],
   "source": [
    "# Deployment 1\n",
    "\n",
    "# Slice datasets by most limiting timeframe\n",
    "# Temperature\n",
    "temp_dep1 = temp.sel(time=slice('2022-08-02T09:40:00.000000000', '2022-08-11T17:59:00.000000000'))\n",
    "\n",
    "# ADCP\n",
    "adcp_dep1 = adcp1.sel(time=slice('2022-08-02T09:40:00.000000000', '2022-08-11T17:59:00.000000000'))\n",
    "adcp_10mroll_dep1 = adcp1_10mroll.sel(time=slice('2022-08-02T09:40:00.000000000', '2022-08-11T17:59:00.000000000')) # 10 min rolling window for better looking data\n",
    "\n",
    "# ADV\n",
    "adv_dep1 = adv1.sel(time=slice('2022-08-02T09:40:00.000000000', '2022-08-11T17:59:00.000000000'))\n",
    "adv_1m_dep1 = adv1_1m.sel(time=slice('2022-08-02T09:40:00.000000000', '2022-08-11T17:59:00.000000000'))# Using 1min average since raw data is too chaotic\n",
    "adv_5m_dep1 = adv1_5m.sel(time=slice('2022-08-02T09:40:00.000000000', '2022-08-11T17:59:00.000000000'))\n",
    "adv_10m_dep1 = adv1_10m.sel(time=slice('2022-08-02T09:40:00.000000000', '2022-08-11T17:59:00.000000000'))"
   ]
  },
  {
   "cell_type": "markdown",
   "metadata": {},
   "source": [
    "## Cooling events\n",
    "- Cooling event triggered by dramatic drop in temperature and simultaneous dramatic increase in northereastern velocity (0 < velocity < 90)\n",
    "- Events appear to occur on diurnal to semidiiurnal basis\n",
    "- Due to orientation of SWC and location of the site, NE velocity is associated with ONSHORE transport\n",
    "- Visibly looks correlated to tidal cycle"
   ]
  },
  {
   "cell_type": "code",
   "execution_count": null,
   "metadata": {},
   "outputs": [],
   "source": [
    "# Create depth average temperature time series for deployment 1\n",
    "temp_dep1_da = temp_dep1.Temperature.mean(axis=0)"
   ]
  },
  {
   "cell_type": "code",
   "execution_count": null,
   "metadata": {},
   "outputs": [],
   "source": [
    "# Compare temperature with pressure over time\n",
    "fig,ax = plt.subplots(figsize = (20, 5))\n",
    "\n",
    "# make a plot\n",
    "lns1 = ax.plot(temp_dep1_da.time, temp_dep1_da, 'orange', lw = 2, label='Temperature (DA)')\n",
    "# set x-axis label\n",
    "ax.set_xlabel(\"Datetime\", fontsize = 14)\n",
    "# set y-axis label\n",
    "ax.set_ylabel(\"Temperature (Celsius)\", fontsize=14)\n",
    "\n",
    "# twin object for two different y-axis on the sample plot\n",
    "ax2=ax.twinx()\n",
    "# make a plot with different y-axis using second axis object\n",
    "lns2 = ax2.plot(adv_1m_dep1.time, adv_1m_dep1.Pressure, '.b', lw = 2, label='Pressure')\n",
    "ax2.set_ylim(8,12)\n",
    "ax2.set_ylabel(\"Pressure (Dbar)\",fontsize=14)\n",
    "\n",
    "\n",
    "# Solution for having two legends\n",
    "leg = lns1 + lns2\n",
    "labs = [l.get_label() for l in leg]\n",
    "ax.legend(loc=1, bbox_to_anchor=(1,.92)) #(leg, labs, loc=0)\n",
    "plt.axhline(y=359, c='black', lw=2)\n",
    "plt.axhline(y=280, c='black', lw=2)\n",
    "plt.title('Depth averaged temperature with pressure', fontsize=14)\n",
    "plt.legend(bbox_to_anchor=(.99,1))\n",
    "\n",
    "plt.margins(x=.01, y = .5)\n",
    "#plt.show()"
   ]
  },
  {
   "cell_type": "markdown",
   "metadata": {},
   "source": [
    "### Cooling events heavily coincide with rising tide\n",
    "- Cooling events appear to be driven by tides, pulling colder water from offshore into SWC\n",
    "- Rate of sea level height appears to be NEGATIVELY correlated with rate of change for temperature"
   ]
  },
  {
   "cell_type": "markdown",
   "metadata": {},
   "source": [
    "### Zoom in on single event\n",
    "- Find \"good\" data\n",
    "    - adv and adcp data which meets quality controlled standars\n",
    "    - adv especially needs to be good for future spectral analysis"
   ]
  },
  {
   "cell_type": "code",
   "execution_count": null,
   "metadata": {},
   "outputs": [],
   "source": [
    "test = adv_dep1.where(adv_dep1.Dat_flag < 5)\n",
    "test = test.dropna(dim = 'time', how=\"any\")\n",
    "gburst = np.unique(test.Burst_number, return_counts=True)\n",
    "for i in range(len(np.unique(test.Burst_number))):\n",
    "    if gburst[1][i]>= 34560:\n",
    "        print(gburst[0][i])"
   ]
  },
  {
   "cell_type": "code",
   "execution_count": null,
   "metadata": {},
   "outputs": [],
   "source": [
    "# String of good data from burst numbers 108-111\n",
    "gdat = adv_dep1.where((adv_dep1.Burst_number >= 50) & (adv_dep1.Burst_number <= 80))\n",
    "gdat = gdat.dropna(dim = 'time', how=\"any\")\n",
    "temp_dep1_ce = temp_dep1.sel(time=slice(gdat.time[0], gdat.time[-1]))\n",
    "adv_1m_dep1_ce = adv_1m_dep1.sel(time=slice(gdat.time[0], gdat.time[-1]))\n",
    "adcp_dep1_ce = adcp_dep1.sel(time=slice(gdat.time[0], gdat.time[-1]))\n",
    "adcp_10mroll_dep1_ce = adcp_10mroll_dep1.sel(time=slice(gdat.time[0], gdat.time[-1]))\n",
    "\n",
    "# TEMPERATURE\n",
    "plt.figure(figsize = (20,16))\n",
    "\n",
    "plt.subplot(311)\n",
    "plt.plot(temp_dep1_ce.time, temp_dep1_ce.Temperature.isel(depth=0), 'r-', lw = 1)\n",
    "plt.plot(temp_dep1_ce.time, temp_dep1_ce.Temperature.isel(depth=1), 'darkorange', lw = 1)\n",
    "plt.plot(temp_dep1_ce.time, temp_dep1_ce.Temperature.isel(depth=2), 'b-', lw = 1)\n",
    "plt.plot(temp_dep1_ce.time, temp_dep1_ce.Temperature.isel(depth=3), 'g-', lw = 1)\n",
    "plt.plot(temp_dep1_ce.time, temp_dep1_ce.Temperature.isel(depth=4), 'c-', lw = 1)\n",
    "plt.plot(temp_dep1_ce.time, temp_dep1_ce.Temperature.isel(depth=5), 'y-', lw = 1)\n",
    "plt.plot(temp_dep1_ce.time, temp_dep1_ce.Temperature.isel(depth=6), 'k-', lw = 1)\n",
    "\n",
    "plt.ylabel(\"Temperature (Celsius)\", fontsize=14)\n",
    "plt.margins(x=0)\n",
    "plt.title('Temperature within SWC Kelp Forest Mooring')\n",
    "plt.legend(['2m','4m','6m','8m','9.1m', '9.4m', '9.7m'], loc = 'upper left')\n",
    "#=================================================================================================\n",
    "# Eastern\n",
    "plt.subplot(312)\n",
    "plt.plot(adcp_dep1_ce.time, adcp_dep1_ce.East.isel(BinDist=1), '.r', label = 'ADCP-Eastern')\n",
    "plt.plot(adcp_10mroll_dep1_ce.time, adcp_10mroll_dep1_ce.East, '-k', label = 'ADCP-Eastern (10-min rolling)')\n",
    "plt.plot(adv_1m_dep1_ce.time, adv_1m_dep1_ce.East, '.b', label = 'ADV-Eastern (1-min average)')\n",
    "plt.ylim(-.1,.1)\n",
    "plt.legend(loc = 'upper right')\n",
    "plt.axhline(y=0, c='black', lw=2)\n",
    "plt.margins(x=0)\n",
    "plt.ylabel('Velocity (m/s)')\n",
    "plt.xlabel('Date')\n",
    "plt.title('Eastern Velocity (1m Above Seafloor)')\n",
    "#=================================================================================================\n",
    "# Current profile\n",
    "plt.subplot(313)\n",
    "minvel = -.1 # Limits for the colorbars used on the adcp colorplots\n",
    "maxvel = .1\n",
    "norm = matplotlib.colors.Normalize(vmin=minvel,vmax=maxvel)\n",
    "plt.title('ADCP Eastern Velocity')\n",
    "plt.pcolormesh(adcp_dep1_ce.time, adcp_dep1_ce.BinDist, adcp_dep1_ce.East,norm=norm)\n",
    "plt.colorbar(label='Eastern velocity [m/s]', orientation = 'horizontal', fraction = .1)\n",
    "plt.ylabel('Depth [MOB]')\n",
    "plt.margins(x=.01)"
   ]
  },
  {
   "cell_type": "markdown",
   "metadata": {},
   "source": [
    "### Bursts 53 and 75 are both during cooling event periods\n",
    "- Next step is to conduct spectral analysis of these bursts"
   ]
  },
  {
   "cell_type": "code",
   "execution_count": null,
   "metadata": {},
   "outputs": [],
   "source": [
    "# THE FOLLOWING CODE IS ADAPTED FROM STEVEN CUNNINGHAM'S MASTERS THESIS (2019)\n",
    "\n",
    "# Rotate velocity data along the principle axes U and V\n",
    "theta, major, minor = ts.princax(adv_dep1.East, adv_dep1.North) # theta = angle, major = SD major axis (U), SD minor axis (V)\n",
    "U, V = ts.rot(adv_dep1.East, adv_dep1.North, -theta)\n",
    "adv_dep1['U'] = U\n",
    "adv_dep1['V'] = V"
   ]
  },
  {
   "cell_type": "code",
   "execution_count": null,
   "metadata": {},
   "outputs": [],
   "source": [
    "# Isolate the good bursts\n",
    "b53 = adv_dep1.where(adv_dep1.Burst_number == 53).dropna(dim = 'time', how=\"any\")\n",
    "b75 = adv_dep1.where(adv_dep1.Burst_number == 75).dropna(dim = 'time', how=\"any\")"
   ]
  },
  {
   "cell_type": "code",
   "execution_count": null,
   "metadata": {},
   "outputs": [],
   "source": [
    "# Fast Fourier Transform algorithm on major axis 'U'\n",
    "b53_U_fft = np.fft.fft(b53.U)\n",
    "b75_U_fft = np.fft.fft(b75.U)\n",
    "\n",
    "# Calculate spectra and frequency, where delta t is the sample rate\n",
    "N = 38400 # Length of each burst\n",
    "delta_t = (1/32) # 32Hz sample frequency\n",
    "f = np.fft.fftfreq(N, delta_t)\n",
    "S53 = (2/N) * delta_t * np.abs(b53_U_fft)**2\n",
    "S75 = (2/N) * delta_t * np.abs(b75_U_fft)**2"
   ]
  },
  {
   "cell_type": "code",
   "execution_count": null,
   "metadata": {},
   "outputs": [],
   "source": [
    "# Smoothing out the spectra\n",
    "f4_b53, S4_b53 = welch(b53.U, fs=32, nperseg= 2240, window='hanning', detrend='linear')\n",
    "f4_b53p, S4_b53p = welch(b53.Pressure, fs=32, nperseg= 2240, window='hanning', detrend='linear') # Feddderson uses 70s windows"
   ]
  },
  {
   "cell_type": "code",
   "execution_count": null,
   "metadata": {},
   "outputs": [],
   "source": [
    "fU,SU = periodogram(b53.U, fs=32)\n",
    "fP,SP = periodogram(b53.Pressure, fs=32)"
   ]
  },
  {
   "cell_type": "code",
   "execution_count": null,
   "metadata": {},
   "outputs": [],
   "source": [
    "plt.figure()\n",
    "plt.loglog(f4_b53p,S4_b53p)\n",
    "plt.xlabel('frequency [cps]')\n",
    "plt.loglog(f4_b53,S4_b53)\n",
    "plt.ylabel('PSD')\n",
    "plt.ylim([1e-11,1])"
   ]
  }
 ],
 "metadata": {
  "kernelspec": {
   "display_name": "Python 3",
   "language": "python",
   "name": "python3"
  },
  "language_info": {
   "codemirror_mode": {
    "name": "ipython",
    "version": 3
   },
   "file_extension": ".py",
   "mimetype": "text/x-python",
   "name": "python",
   "nbconvert_exporter": "python",
   "pygments_lexer": "ipython3",
   "version": "3.8.5"
  }
 },
 "nbformat": 4,
 "nbformat_minor": 4
}
